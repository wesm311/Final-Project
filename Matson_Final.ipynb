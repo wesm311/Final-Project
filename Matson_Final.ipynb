{
 "cells": [
  {
   "cell_type": "markdown",
   "metadata": {},
   "source": [
    "### Wesley Matson    \n",
    "\n",
    "\n",
    "\n",
    "On my honor, as a student, I have neither given nor received unauthorized aid on this academic work."
   ]
  },
  {
   "cell_type": "code",
   "execution_count": 397,
   "metadata": {},
   "outputs": [],
   "source": [
    "# import packages\n",
    "import pandas as pd\n",
    "import numpy as np\n",
    "import seaborn as sns\n",
    "import matplotlib.pyplot as plt\n",
    "%matplotlib inline\n",
    "from scipy import stats\n",
    "from pandas.tools import plotting\n",
    "from statsmodels.stats.multicomp import pairwise_tukeyhsd"
   ]
  },
  {
   "cell_type": "markdown",
   "metadata": {},
   "source": [
    "The motion picture industry is a multibillion dollar industry, with hundreds of movies being made every year.  Some moves have budgets in the hundreds of millions of dollars and can create huge losses if the movie flops at the box office.  Being able to understand the factors that lead to a movie success or failure is very important to the movie industry.  The earlier we can measure the enthusiasm for film, the better for investors in the industry.  Possible early indicators could be:\n",
    "*  Who is in the film\n",
    "*  When the film will be released\n",
    "*  Who the director is\n",
    "*  Film type (horror, action, ect.)\n",
    "*  Social media reaction to trailer\n",
    "*  Social media mentions\n",
    "*  Google searches    \n",
    "\n",
    "Once the film is released and people start to watch the movie, an abundant amount of data is created that will be tied to the success of the movie\n",
    "*  Critic reviews\n",
    "*  User reviews\n",
    "*  Social media mentions\n",
    "*  Movie's facebook page likes\n",
    "*  Director and Actor facebook likes\n",
    "*  User votes and ratings\n",
    "Each piece of data holds a potential clue to how successful the film will be.  It is our goal to analyze the data to be able to predict in the future how successful a movie will do in real time as the data starts to roll in.     \n",
    "\n",
    "The highest correlated variables in our dataset our:\n",
    "* Number of user votes\n",
    "* Number of critic reviews\n",
    "* Number of user reviews\n",
    "* Duration\n",
    "* Movie facebook likes\n"
   ]
  },
  {
   "cell_type": "code",
   "execution_count": 398,
   "metadata": {},
   "outputs": [
    {
     "data": {
      "text/html": [
       "<div>\n",
       "<style scoped>\n",
       "    .dataframe tbody tr th:only-of-type {\n",
       "        vertical-align: middle;\n",
       "    }\n",
       "\n",
       "    .dataframe tbody tr th {\n",
       "        vertical-align: top;\n",
       "    }\n",
       "\n",
       "    .dataframe thead th {\n",
       "        text-align: right;\n",
       "    }\n",
       "</style>\n",
       "<table border=\"1\" class=\"dataframe\">\n",
       "  <thead>\n",
       "    <tr style=\"text-align: right;\">\n",
       "      <th></th>\n",
       "      <th>color</th>\n",
       "      <th>director_name</th>\n",
       "      <th>num_critic_for_reviews</th>\n",
       "      <th>duration</th>\n",
       "      <th>director_facebook_likes</th>\n",
       "      <th>actor_3_facebook_likes</th>\n",
       "      <th>actor_2_name</th>\n",
       "      <th>actor_1_facebook_likes</th>\n",
       "      <th>gross</th>\n",
       "      <th>genres</th>\n",
       "      <th>...</th>\n",
       "      <th>num_user_for_reviews</th>\n",
       "      <th>language</th>\n",
       "      <th>country</th>\n",
       "      <th>content_rating</th>\n",
       "      <th>budget</th>\n",
       "      <th>title_year</th>\n",
       "      <th>actor_2_facebook_likes</th>\n",
       "      <th>imdb_score</th>\n",
       "      <th>aspect_ratio</th>\n",
       "      <th>movie_facebook_likes</th>\n",
       "    </tr>\n",
       "  </thead>\n",
       "  <tbody>\n",
       "    <tr>\n",
       "      <th>0</th>\n",
       "      <td>Color</td>\n",
       "      <td>James Cameron</td>\n",
       "      <td>723.0</td>\n",
       "      <td>178.0</td>\n",
       "      <td>0.0</td>\n",
       "      <td>855.0</td>\n",
       "      <td>Joel David Moore</td>\n",
       "      <td>1000.0</td>\n",
       "      <td>760505847.0</td>\n",
       "      <td>Action|Adventure|Fantasy|Sci-Fi</td>\n",
       "      <td>...</td>\n",
       "      <td>3054.0</td>\n",
       "      <td>English</td>\n",
       "      <td>USA</td>\n",
       "      <td>PG-13</td>\n",
       "      <td>237000000.0</td>\n",
       "      <td>2009.0</td>\n",
       "      <td>936.0</td>\n",
       "      <td>7.9</td>\n",
       "      <td>1.78</td>\n",
       "      <td>33000</td>\n",
       "    </tr>\n",
       "    <tr>\n",
       "      <th>1</th>\n",
       "      <td>Color</td>\n",
       "      <td>Gore Verbinski</td>\n",
       "      <td>302.0</td>\n",
       "      <td>169.0</td>\n",
       "      <td>563.0</td>\n",
       "      <td>1000.0</td>\n",
       "      <td>Orlando Bloom</td>\n",
       "      <td>40000.0</td>\n",
       "      <td>309404152.0</td>\n",
       "      <td>Action|Adventure|Fantasy</td>\n",
       "      <td>...</td>\n",
       "      <td>1238.0</td>\n",
       "      <td>English</td>\n",
       "      <td>USA</td>\n",
       "      <td>PG-13</td>\n",
       "      <td>300000000.0</td>\n",
       "      <td>2007.0</td>\n",
       "      <td>5000.0</td>\n",
       "      <td>7.1</td>\n",
       "      <td>2.35</td>\n",
       "      <td>0</td>\n",
       "    </tr>\n",
       "  </tbody>\n",
       "</table>\n",
       "<p>2 rows × 28 columns</p>\n",
       "</div>"
      ],
      "text/plain": [
       "   color   director_name  num_critic_for_reviews  duration  \\\n",
       "0  Color   James Cameron                   723.0     178.0   \n",
       "1  Color  Gore Verbinski                   302.0     169.0   \n",
       "\n",
       "   director_facebook_likes  actor_3_facebook_likes      actor_2_name  \\\n",
       "0                      0.0                   855.0  Joel David Moore   \n",
       "1                    563.0                  1000.0     Orlando Bloom   \n",
       "\n",
       "   actor_1_facebook_likes        gross                           genres  \\\n",
       "0                  1000.0  760505847.0  Action|Adventure|Fantasy|Sci-Fi   \n",
       "1                 40000.0  309404152.0         Action|Adventure|Fantasy   \n",
       "\n",
       "          ...          num_user_for_reviews language  country  content_rating  \\\n",
       "0         ...                        3054.0  English      USA           PG-13   \n",
       "1         ...                        1238.0  English      USA           PG-13   \n",
       "\n",
       "        budget  title_year actor_2_facebook_likes imdb_score  aspect_ratio  \\\n",
       "0  237000000.0      2009.0                  936.0        7.9          1.78   \n",
       "1  300000000.0      2007.0                 5000.0        7.1          2.35   \n",
       "\n",
       "  movie_facebook_likes  \n",
       "0                33000  \n",
       "1                    0  \n",
       "\n",
       "[2 rows x 28 columns]"
      ]
     },
     "execution_count": 398,
     "metadata": {},
     "output_type": "execute_result"
    }
   ],
   "source": [
    "# import data\n",
    "df = pd.read_excel(\"data/movie.xlsx\")\n",
    "df.head(2)"
   ]
  },
  {
   "cell_type": "code",
   "execution_count": 399,
   "metadata": {},
   "outputs": [
    {
     "data": {
      "text/html": [
       "<div>\n",
       "<style scoped>\n",
       "    .dataframe tbody tr th:only-of-type {\n",
       "        vertical-align: middle;\n",
       "    }\n",
       "\n",
       "    .dataframe tbody tr th {\n",
       "        vertical-align: top;\n",
       "    }\n",
       "\n",
       "    .dataframe thead th {\n",
       "        text-align: right;\n",
       "    }\n",
       "</style>\n",
       "<table border=\"1\" class=\"dataframe\">\n",
       "  <thead>\n",
       "    <tr style=\"text-align: right;\">\n",
       "      <th></th>\n",
       "      <th>imdb_score</th>\n",
       "    </tr>\n",
       "  </thead>\n",
       "  <tbody>\n",
       "    <tr>\n",
       "      <th>num_voted_users</th>\n",
       "      <td>0.410965</td>\n",
       "    </tr>\n",
       "    <tr>\n",
       "      <th>num_critic_for_reviews</th>\n",
       "      <td>0.305303</td>\n",
       "    </tr>\n",
       "    <tr>\n",
       "      <th>num_user_for_reviews</th>\n",
       "      <td>0.292475</td>\n",
       "    </tr>\n",
       "    <tr>\n",
       "      <th>duration</th>\n",
       "      <td>0.261662</td>\n",
       "    </tr>\n",
       "    <tr>\n",
       "      <th>movie_facebook_likes</th>\n",
       "      <td>0.247049</td>\n",
       "    </tr>\n",
       "    <tr>\n",
       "      <th>gross</th>\n",
       "      <td>0.198021</td>\n",
       "    </tr>\n",
       "    <tr>\n",
       "      <th>director_facebook_likes</th>\n",
       "      <td>0.170802</td>\n",
       "    </tr>\n",
       "    <tr>\n",
       "      <th>cast_total_facebook_likes</th>\n",
       "      <td>0.085787</td>\n",
       "    </tr>\n",
       "    <tr>\n",
       "      <th>actor_2_facebook_likes</th>\n",
       "      <td>0.083808</td>\n",
       "    </tr>\n",
       "    <tr>\n",
       "      <th>actor_1_facebook_likes</th>\n",
       "      <td>0.076099</td>\n",
       "    </tr>\n",
       "    <tr>\n",
       "      <th>aspect_ratio</th>\n",
       "      <td>0.059445</td>\n",
       "    </tr>\n",
       "    <tr>\n",
       "      <th>actor_3_facebook_likes</th>\n",
       "      <td>0.052633</td>\n",
       "    </tr>\n",
       "    <tr>\n",
       "      <th>budget</th>\n",
       "      <td>0.030688</td>\n",
       "    </tr>\n",
       "    <tr>\n",
       "      <th>facenumber_in_poster</th>\n",
       "      <td>-0.062958</td>\n",
       "    </tr>\n",
       "    <tr>\n",
       "      <th>title_year</th>\n",
       "      <td>-0.209167</td>\n",
       "    </tr>\n",
       "  </tbody>\n",
       "</table>\n",
       "</div>"
      ],
      "text/plain": [
       "                           imdb_score\n",
       "num_voted_users              0.410965\n",
       "num_critic_for_reviews       0.305303\n",
       "num_user_for_reviews         0.292475\n",
       "duration                     0.261662\n",
       "movie_facebook_likes         0.247049\n",
       "gross                        0.198021\n",
       "director_facebook_likes      0.170802\n",
       "cast_total_facebook_likes    0.085787\n",
       "actor_2_facebook_likes       0.083808\n",
       "actor_1_facebook_likes       0.076099\n",
       "aspect_ratio                 0.059445\n",
       "actor_3_facebook_likes       0.052633\n",
       "budget                       0.030688\n",
       "facenumber_in_poster        -0.062958\n",
       "title_year                  -0.209167"
      ]
     },
     "execution_count": 399,
     "metadata": {},
     "output_type": "execute_result"
    }
   ],
   "source": [
    "#Check correlation\n",
    "corr = pd.DataFrame(df.corr()['imdb_score'].drop('imdb_score'))\n",
    "corr.sort_values(['imdb_score'], ascending = False)"
   ]
  },
  {
   "cell_type": "code",
   "execution_count": 400,
   "metadata": {},
   "outputs": [],
   "source": [
    "#Drop all columns with less than 0.1 correlation with imbd_ratings, keep budget for further analysis\n",
    "df = df.drop(['actor_3_facebook_likes', 'actor_3_facebook_likes', 'cast_total_facebook_likes', 'facenumber_in_poster', 'actor_2_facebook_likes', 'aspect_ratio'], axis=1)"
   ]
  },
  {
   "cell_type": "code",
   "execution_count": 401,
   "metadata": {},
   "outputs": [
    {
     "name": "stdout",
     "output_type": "stream",
     "text": [
      "<class 'pandas.core.frame.DataFrame'>\n",
      "RangeIndex: 5043 entries, 0 to 5042\n",
      "Data columns (total 23 columns):\n",
      "color                      5024 non-null object\n",
      "director_name              4939 non-null object\n",
      "num_critic_for_reviews     4993 non-null float64\n",
      "duration                   5028 non-null float64\n",
      "director_facebook_likes    4939 non-null float64\n",
      "actor_2_name               5030 non-null object\n",
      "actor_1_facebook_likes     5036 non-null float64\n",
      "gross                      4159 non-null float64\n",
      "genres                     5043 non-null object\n",
      "actor_1_name               5036 non-null object\n",
      "movie_title                5043 non-null object\n",
      "num_voted_users            5043 non-null int64\n",
      "actor_3_name               5020 non-null object\n",
      "plot_keywords              4890 non-null object\n",
      "movie_imdb_link            5043 non-null object\n",
      "num_user_for_reviews       5022 non-null float64\n",
      "language                   5031 non-null object\n",
      "country                    5038 non-null object\n",
      "content_rating             4740 non-null object\n",
      "budget                     4551 non-null float64\n",
      "title_year                 4935 non-null float64\n",
      "imdb_score                 5043 non-null float64\n",
      "movie_facebook_likes       5043 non-null int64\n",
      "dtypes: float64(9), int64(2), object(12)\n",
      "memory usage: 906.2+ KB\n"
     ]
    }
   ],
   "source": [
    "# Check variable types\n",
    "df.info()"
   ]
  },
  {
   "cell_type": "code",
   "execution_count": 402,
   "metadata": {},
   "outputs": [
    {
     "data": {
      "text/plain": [
       "(4997, 23)"
      ]
     },
     "execution_count": 402,
     "metadata": {},
     "output_type": "execute_result"
    }
   ],
   "source": [
    "# Drop any duplicate columns\n",
    "df.drop_duplicates(inplace=True)\n",
    "df.shape"
   ]
  },
  {
   "cell_type": "code",
   "execution_count": 403,
   "metadata": {},
   "outputs": [],
   "source": [
    "# Get rid of additional unnecessary columns\n",
    "df=df.drop(['actor_2_name', 'actor_3_name', 'plot_keywords', 'country', 'movie_imdb_link', 'language' ], axis=1)"
   ]
  },
  {
   "cell_type": "code",
   "execution_count": 404,
   "metadata": {},
   "outputs": [
    {
     "name": "stdout",
     "output_type": "stream",
     "text": [
      "<class 'pandas.core.frame.DataFrame'>\n",
      "Int64Index: 4997 entries, 0 to 5042\n",
      "Data columns (total 17 columns):\n",
      "color                      4978 non-null object\n",
      "director_name              4894 non-null object\n",
      "num_critic_for_reviews     4948 non-null float64\n",
      "duration                   4982 non-null float64\n",
      "director_facebook_likes    4894 non-null float64\n",
      "actor_1_facebook_likes     4990 non-null float64\n",
      "gross                      4123 non-null float64\n",
      "genres                     4997 non-null object\n",
      "actor_1_name               4990 non-null object\n",
      "movie_title                4997 non-null object\n",
      "num_voted_users            4997 non-null int64\n",
      "num_user_for_reviews       4976 non-null float64\n",
      "content_rating             4696 non-null object\n",
      "budget                     4510 non-null float64\n",
      "title_year                 4890 non-null float64\n",
      "imdb_score                 4997 non-null float64\n",
      "movie_facebook_likes       4997 non-null int64\n",
      "dtypes: float64(9), int64(2), object(6)\n",
      "memory usage: 702.7+ KB\n"
     ]
    }
   ],
   "source": [
    "df.info()"
   ]
  },
  {
   "cell_type": "code",
   "execution_count": 405,
   "metadata": {},
   "outputs": [
    {
     "data": {
      "text/plain": [
       "Color               4771\n",
       " Black and White     207\n",
       "Name: color, dtype: int64"
      ]
     },
     "execution_count": 405,
     "metadata": {},
     "output_type": "execute_result"
    }
   ],
   "source": [
    "#Color has 19 missing values, check values and counts\n",
    "df['color'].value_counts()"
   ]
  },
  {
   "cell_type": "code",
   "execution_count": 406,
   "metadata": {},
   "outputs": [
    {
     "data": {
      "text/plain": [
       "Color               4790\n",
       " Black and White     207\n",
       "Name: color, dtype: int64"
      ]
     },
     "execution_count": 406,
     "metadata": {},
     "output_type": "execute_result"
    }
   ],
   "source": [
    "#Fill null values with most popular value\n",
    "df = df.fillna({'color' : 'Color'})\n",
    "df['color'].value_counts()"
   ]
  },
  {
   "cell_type": "code",
   "execution_count": 407,
   "metadata": {},
   "outputs": [
    {
     "data": {
      "text/plain": [
       "color\n",
       " Black and White    7.220290\n",
       "Color               6.407453\n",
       "Name: imdb_score, dtype: float64"
      ]
     },
     "execution_count": 407,
     "metadata": {},
     "output_type": "execute_result"
    }
   ],
   "source": [
    "#Check average IMDB score to see if color has any affect\n",
    "df.groupby('color')['imdb_score'].mean()"
   ]
  },
  {
   "cell_type": "code",
   "execution_count": 408,
   "metadata": {},
   "outputs": [
    {
     "data": {
      "text/plain": [
       "count    4997.000000\n",
       "mean        0.958575\n",
       "std         0.199291\n",
       "min         0.000000\n",
       "25%         1.000000\n",
       "50%         1.000000\n",
       "75%         1.000000\n",
       "max         1.000000\n",
       "Name: color, dtype: float64"
      ]
     },
     "execution_count": 408,
     "metadata": {},
     "output_type": "execute_result"
    }
   ],
   "source": [
    "#It would seem color has an effect, change to numerical for further analysis\n",
    "df['color'] = df['color'].replace({' Black and White': 0, 'Color':1})\n",
    "df['color'].describe()"
   ]
  },
  {
   "cell_type": "code",
   "execution_count": 409,
   "metadata": {},
   "outputs": [],
   "source": [
    "#Drop null values for director name\n",
    "df = df.dropna(subset=['director_name'])"
   ]
  },
  {
   "cell_type": "code",
   "execution_count": 410,
   "metadata": {},
   "outputs": [
    {
     "data": {
      "text/plain": [
       "count    4850.000000\n",
       "mean      142.251753\n",
       "std       121.517413\n",
       "min         1.000000\n",
       "25%        52.000000\n",
       "50%       112.000000\n",
       "75%       196.000000\n",
       "max       813.000000\n",
       "Name: num_critic_for_reviews, dtype: float64"
      ]
     },
     "execution_count": 410,
     "metadata": {},
     "output_type": "execute_result"
    }
   ],
   "source": [
    "#Check basic statistics for number of critic reviews\n",
    "df['num_critic_for_reviews'].describe()"
   ]
  },
  {
   "cell_type": "code",
   "execution_count": 411,
   "metadata": {},
   "outputs": [
    {
     "data": {
      "text/plain": [
       "<matplotlib.axes._subplots.AxesSubplot at 0x23d8a940>"
      ]
     },
     "execution_count": 411,
     "metadata": {},
     "output_type": "execute_result"
    },
    {
     "data": {
      "image/png": "[encoded data removed]",
      "text/plain": [
       "<Figure size 432x288 with 1 Axes>"
      ]
     },
     "metadata": {},
     "output_type": "display_data"
    }
   ],
   "source": [
    "#Check boxplot for distribution shape\n",
    "df['num_critic_for_reviews'].plot(kind='box')"
   ]
  },
  {
   "cell_type": "markdown",
   "metadata": {},
   "source": [
    "Majority of number of critic reviews are below 200, distribution is highly skewed left"
   ]
  },
  {
   "cell_type": "code",
   "execution_count": 412,
   "metadata": {},
   "outputs": [],
   "source": [
    "#Fill the null values with the median, should not have too much impact on correlation analysis\n",
    "df = df.fillna({'num_critic_for_reviews': 110})"
   ]
  },
  {
   "cell_type": "code",
   "execution_count": 413,
   "metadata": {},
   "outputs": [
    {
     "data": {
      "text/plain": [
       "count    4881.000000\n",
       "mean      108.149764\n",
       "std        22.620504\n",
       "min         7.000000\n",
       "25%        94.000000\n",
       "50%       104.000000\n",
       "75%       118.000000\n",
       "max       330.000000\n",
       "Name: duration, dtype: float64"
      ]
     },
     "execution_count": 413,
     "metadata": {},
     "output_type": "execute_result"
    }
   ],
   "source": [
    "#Check basic statistics for duration\n",
    "df['duration'].describe()"
   ]
  },
  {
   "cell_type": "code",
   "execution_count": 414,
   "metadata": {},
   "outputs": [],
   "source": [
    "#We need to remove the outlier at 511 with the median\n",
    "df = df.replace({'duration': 511}, {'duration': 103})"
   ]
  },
  {
   "cell_type": "code",
   "execution_count": 415,
   "metadata": {},
   "outputs": [
    {
     "data": {
      "text/plain": [
       "<matplotlib.axes._subplots.AxesSubplot at 0x23e49550>"
      ]
     },
     "execution_count": 415,
     "metadata": {},
     "output_type": "execute_result"
    },
    {
     "data": {
      "image/png": "[encoded data removed]",
      "text/plain": [
       "<Figure size 432x288 with 1 Axes>"
      ]
     },
     "metadata": {},
     "output_type": "display_data"
    }
   ],
   "source": [
    "#Check histogram for distribution shape\n",
    "df['num_critic_for_reviews'].hist()"
   ]
  },
  {
   "cell_type": "code",
   "execution_count": 416,
   "metadata": {},
   "outputs": [],
   "source": [
    "#Since there are only 15 missing values for duration, we can fill them with the median\n",
    "df = df.fillna({'duration': df['duration'].median()})"
   ]
  },
  {
   "cell_type": "code",
   "execution_count": 417,
   "metadata": {},
   "outputs": [
    {
     "data": {
      "text/plain": [
       "count    4875.000000\n",
       "mean      275.798769\n",
       "std       380.492996\n",
       "min         1.000000\n",
       "25%        67.000000\n",
       "50%       159.000000\n",
       "75%       331.000000\n",
       "max      5060.000000\n",
       "Name: num_user_for_reviews, dtype: float64"
      ]
     },
     "execution_count": 417,
     "metadata": {},
     "output_type": "execute_result"
    }
   ],
   "source": [
    "df['num_user_for_reviews'].describe()"
   ]
  },
  {
   "cell_type": "code",
   "execution_count": 418,
   "metadata": {},
   "outputs": [
    {
     "data": {
      "text/plain": [
       "<matplotlib.axes._subplots.AxesSubplot at 0x24222400>"
      ]
     },
     "execution_count": 418,
     "metadata": {},
     "output_type": "execute_result"
    },
    {
     "data": {
      "image/png": "[encoded data removed]",
      "text/plain": [
       "<Figure size 432x288 with 1 Axes>"
      ]
     },
     "metadata": {},
     "output_type": "display_data"
    }
   ],
   "source": [
    "df['num_user_for_reviews'].plot(kind='box')"
   ]
  },
  {
   "cell_type": "markdown",
   "metadata": {},
   "source": [
    "Significant number of outliers, highly skewed to the left."
   ]
  },
  {
   "cell_type": "code",
   "execution_count": 419,
   "metadata": {},
   "outputs": [],
   "source": [
    "#Drop null values for actor name\n",
    "df = df.dropna(subset=['actor_1_name'])"
   ]
  },
  {
   "cell_type": "code",
   "execution_count": 420,
   "metadata": {},
   "outputs": [],
   "source": [
    "#There are a significant number of missing values for gross.  To keep the rest of the data, we will replace with the median.\n",
    "df = df.fillna({'gross': df['gross'].median()})"
   ]
  },
  {
   "cell_type": "code",
   "execution_count": 421,
   "metadata": {},
   "outputs": [],
   "source": [
    "#There are a significant number of missing values for budget.  To keep the rest of the data, we will replace with the median.\n",
    "df = df.fillna({'budget': df['budget'].median()})"
   ]
  },
  {
   "cell_type": "code",
   "execution_count": 422,
   "metadata": {},
   "outputs": [
    {
     "data": {
      "text/plain": [
       "count    4.887000e+03\n",
       "mean     4.480093e+07\n",
       "std      6.296093e+07\n",
       "min      1.620000e+02\n",
       "25%      8.026422e+06\n",
       "50%      2.550022e+07\n",
       "75%      5.250147e+07\n",
       "max      7.605058e+08\n",
       "Name: gross, dtype: float64"
      ]
     },
     "execution_count": 422,
     "metadata": {},
     "output_type": "execute_result"
    }
   ],
   "source": [
    "df['gross'].describe()"
   ]
  },
  {
   "cell_type": "code",
   "execution_count": 423,
   "metadata": {},
   "outputs": [],
   "source": [
    "#Remove outlier\n",
    "df = df.replace({'budget': 1.221550e+10}, {'budget': 2.400000e+07})\n",
    "df = df.replace({'budget': 4.200000e+09}, {'budget': 2.400000e+07})"
   ]
  },
  {
   "cell_type": "code",
   "execution_count": 424,
   "metadata": {},
   "outputs": [],
   "source": [
    "#Replace null values in content ranting with unrated.\n",
    "df = df.fillna({'content_rating': 'Unrated'})"
   ]
  },
  {
   "cell_type": "code",
   "execution_count": 425,
   "metadata": {},
   "outputs": [
    {
     "data": {
      "text/plain": [
       "R            2098\n",
       "PG-13        1443\n",
       "PG            698\n",
       "Unrated       317\n",
       "Not Rated     114\n",
       "G             112\n",
       "Approved       55\n",
       "X              13\n",
       "Passed          9\n",
       "NC-17           7\n",
       "GP              6\n",
       "M               5\n",
       "TV-G            4\n",
       "TV-14           3\n",
       "TV-PG           3\n",
       "Name: content_rating, dtype: int64"
      ]
     },
     "execution_count": 425,
     "metadata": {},
     "output_type": "execute_result"
    }
   ],
   "source": [
    "#Check content rating data set\n",
    "df['content_rating'].value_counts()"
   ]
  },
  {
   "cell_type": "code",
   "execution_count": 426,
   "metadata": {},
   "outputs": [
    {
     "data": {
      "text/plain": [
       "5    2123\n",
       "4    1510\n",
       "3     707\n",
       "1     431\n",
       "2     116\n",
       "Name: content_rating, dtype: int64"
      ]
     },
     "execution_count": 426,
     "metadata": {},
     "output_type": "execute_result"
    }
   ],
   "source": [
    "#There are many redundant ratings here, separate into Adult(5), Teen(4), PG(3), G(2), and unrated(1)\n",
    "df['content_rating'] = df['content_rating'].replace({'R': 5, 'TV-MA': 5, 'X': 5, 'NC-17': 5, 'M': 5})\n",
    "df['content_rating'] = df['content_rating'].replace({'Not Rated': 1, 'Unrated':1})\n",
    "df['content_rating'] = df['content_rating'].replace({'PG-13': 4, 'TV-14': 4, 'Approved': 4, 'Passed': 4})\n",
    "df['content_rating'] = df['content_rating'].replace({'PG': 3, 'GP': 3, 'TV-PG': 3, 'TV-Y7': 3})\n",
    "df['content_rating'] = df['content_rating'].replace({'G': 2, 'TV-G': 2, 'TV-Y': 2})\n",
    "df['content_rating'].value_counts()"
   ]
  },
  {
   "cell_type": "code",
   "execution_count": 427,
   "metadata": {},
   "outputs": [
    {
     "data": {
      "text/plain": [
       "content_rating\n",
       "1    6.459629\n",
       "2    6.517241\n",
       "3    6.299576\n",
       "4    6.300464\n",
       "5    6.525436\n",
       "Name: imdb_score, dtype: float64"
      ]
     },
     "execution_count": 427,
     "metadata": {},
     "output_type": "execute_result"
    }
   ],
   "source": [
    "#Check to see if content rating has any effect on IMDB score\n",
    "df.groupby('content_rating')['imdb_score'].mean()"
   ]
  },
  {
   "cell_type": "code",
   "execution_count": 428,
   "metadata": {},
   "outputs": [
    {
     "data": {
      "text/html": [
       "<div>\n",
       "<style scoped>\n",
       "    .dataframe tbody tr th:only-of-type {\n",
       "        vertical-align: middle;\n",
       "    }\n",
       "\n",
       "    .dataframe tbody tr th {\n",
       "        vertical-align: top;\n",
       "    }\n",
       "\n",
       "    .dataframe thead th {\n",
       "        text-align: right;\n",
       "    }\n",
       "</style>\n",
       "<table border=\"1\" class=\"dataframe\">\n",
       "  <thead>\n",
       "    <tr style=\"text-align: right;\">\n",
       "      <th></th>\n",
       "      <th>color</th>\n",
       "      <th>director_name</th>\n",
       "      <th>num_critic_for_reviews</th>\n",
       "      <th>duration</th>\n",
       "      <th>director_facebook_likes</th>\n",
       "      <th>actor_1_facebook_likes</th>\n",
       "      <th>gross</th>\n",
       "      <th>genres</th>\n",
       "      <th>actor_1_name</th>\n",
       "      <th>movie_title</th>\n",
       "      <th>...</th>\n",
       "      <th>content_rating</th>\n",
       "      <th>budget</th>\n",
       "      <th>title_year</th>\n",
       "      <th>imdb_score</th>\n",
       "      <th>movie_facebook_likes</th>\n",
       "      <th>content_rating_1</th>\n",
       "      <th>content_rating_2</th>\n",
       "      <th>content_rating_3</th>\n",
       "      <th>content_rating_4</th>\n",
       "      <th>content_rating_5</th>\n",
       "    </tr>\n",
       "  </thead>\n",
       "  <tbody>\n",
       "    <tr>\n",
       "      <th>0</th>\n",
       "      <td>1</td>\n",
       "      <td>James Cameron</td>\n",
       "      <td>723.0</td>\n",
       "      <td>178.0</td>\n",
       "      <td>0.0</td>\n",
       "      <td>1000.0</td>\n",
       "      <td>760505847.0</td>\n",
       "      <td>Action|Adventure|Fantasy|Sci-Fi</td>\n",
       "      <td>CCH Pounder</td>\n",
       "      <td>AvatarÂ</td>\n",
       "      <td>...</td>\n",
       "      <td>4</td>\n",
       "      <td>237000000.0</td>\n",
       "      <td>2009.0</td>\n",
       "      <td>7.9</td>\n",
       "      <td>33000</td>\n",
       "      <td>0</td>\n",
       "      <td>0</td>\n",
       "      <td>0</td>\n",
       "      <td>1</td>\n",
       "      <td>0</td>\n",
       "    </tr>\n",
       "    <tr>\n",
       "      <th>1</th>\n",
       "      <td>1</td>\n",
       "      <td>Gore Verbinski</td>\n",
       "      <td>302.0</td>\n",
       "      <td>169.0</td>\n",
       "      <td>563.0</td>\n",
       "      <td>40000.0</td>\n",
       "      <td>309404152.0</td>\n",
       "      <td>Action|Adventure|Fantasy</td>\n",
       "      <td>Johnny Depp</td>\n",
       "      <td>Pirates of the Caribbean: At World's EndÂ</td>\n",
       "      <td>...</td>\n",
       "      <td>4</td>\n",
       "      <td>300000000.0</td>\n",
       "      <td>2007.0</td>\n",
       "      <td>7.1</td>\n",
       "      <td>0</td>\n",
       "      <td>0</td>\n",
       "      <td>0</td>\n",
       "      <td>0</td>\n",
       "      <td>1</td>\n",
       "      <td>0</td>\n",
       "    </tr>\n",
       "  </tbody>\n",
       "</table>\n",
       "<p>2 rows × 22 columns</p>\n",
       "</div>"
      ],
      "text/plain": [
       "   color   director_name  num_critic_for_reviews  duration  \\\n",
       "0      1   James Cameron                   723.0     178.0   \n",
       "1      1  Gore Verbinski                   302.0     169.0   \n",
       "\n",
       "   director_facebook_likes  actor_1_facebook_likes        gross  \\\n",
       "0                      0.0                  1000.0  760505847.0   \n",
       "1                    563.0                 40000.0  309404152.0   \n",
       "\n",
       "                            genres actor_1_name  \\\n",
       "0  Action|Adventure|Fantasy|Sci-Fi  CCH Pounder   \n",
       "1         Action|Adventure|Fantasy  Johnny Depp   \n",
       "\n",
       "                                  movie_title        ...         \\\n",
       "0                                    AvatarÂ         ...          \n",
       "1  Pirates of the Caribbean: At World's EndÂ         ...          \n",
       "\n",
       "   content_rating       budget  title_year  imdb_score  movie_facebook_likes  \\\n",
       "0               4  237000000.0      2009.0         7.9                 33000   \n",
       "1               4  300000000.0      2007.0         7.1                     0   \n",
       "\n",
       "   content_rating_1  content_rating_2  content_rating_3  content_rating_4  \\\n",
       "0                 0                 0                 0                 1   \n",
       "1                 0                 0                 0                 1   \n",
       "\n",
       "   content_rating_5  \n",
       "0                 0  \n",
       "1                 0  \n",
       "\n",
       "[2 rows x 22 columns]"
      ]
     },
     "execution_count": 428,
     "metadata": {},
     "output_type": "execute_result"
    }
   ],
   "source": [
    "#There are some small differences here so we will keep for further analysis\n",
    "#Create a new column for each content rating for correlation analysis\n",
    "content_dummies = pd.get_dummies(df['content_rating'], prefix='content_rating')\n",
    "df = df.join(content_dummies)\n",
    "df.head(2)"
   ]
  },
  {
   "cell_type": "code",
   "execution_count": 429,
   "metadata": {},
   "outputs": [],
   "source": [
    "#Drop null values in title year\n",
    "df = df.dropna(subset=['title_year'])"
   ]
  },
  {
   "cell_type": "code",
   "execution_count": 430,
   "metadata": {},
   "outputs": [
    {
     "data": {
      "text/plain": [
       "count    4883.000000\n",
       "mean     2002.460168\n",
       "std        12.481966\n",
       "min      1916.000000\n",
       "25%      1999.000000\n",
       "50%      2005.000000\n",
       "75%      2011.000000\n",
       "max      2016.000000\n",
       "Name: title_year, dtype: float64"
      ]
     },
     "execution_count": 430,
     "metadata": {},
     "output_type": "execute_result"
    }
   ],
   "source": [
    "#Check data quality for title year\n",
    "df['title_year'].describe()"
   ]
  },
  {
   "cell_type": "markdown",
   "metadata": {},
   "source": [
    "All the values seem reasonable here"
   ]
  },
  {
   "cell_type": "code",
   "execution_count": 431,
   "metadata": {},
   "outputs": [],
   "source": [
    "#Replace null values in user reviews with the median.\n",
    "df = df.fillna({'num_user_for_reviews': df['num_user_for_reviews'].median()})"
   ]
  },
  {
   "cell_type": "code",
   "execution_count": 432,
   "metadata": {},
   "outputs": [
    {
     "data": {
      "text/plain": [
       "color                      0\n",
       "director_name              0\n",
       "num_critic_for_reviews     0\n",
       "duration                   0\n",
       "director_facebook_likes    0\n",
       "actor_1_facebook_likes     0\n",
       "gross                      0\n",
       "genres                     0\n",
       "actor_1_name               0\n",
       "movie_title                0\n",
       "num_voted_users            0\n",
       "num_user_for_reviews       0\n",
       "content_rating             0\n",
       "budget                     0\n",
       "title_year                 0\n",
       "imdb_score                 0\n",
       "movie_facebook_likes       0\n",
       "content_rating_1           0\n",
       "content_rating_2           0\n",
       "content_rating_3           0\n",
       "content_rating_4           0\n",
       "content_rating_5           0\n",
       "dtype: int64"
      ]
     },
     "execution_count": 432,
     "metadata": {},
     "output_type": "execute_result"
    }
   ],
   "source": [
    "df.isnull().sum()"
   ]
  },
  {
   "cell_type": "code",
   "execution_count": 433,
   "metadata": {},
   "outputs": [
    {
     "data": {
      "text/plain": [
       "(4883, 22)"
      ]
     },
     "execution_count": 433,
     "metadata": {},
     "output_type": "execute_result"
    }
   ],
   "source": [
    "df.shape"
   ]
  },
  {
   "cell_type": "markdown",
   "metadata": {},
   "source": [
    "After cleaning the data, we have 4883 observations left with no missing values.  We must keep in mind that numerous missing values were filled in budget and gross with the median."
   ]
  },
  {
   "cell_type": "code",
   "execution_count": 434,
   "metadata": {},
   "outputs": [
    {
     "data": {
      "text/plain": [
       "6.415973786606586"
      ]
     },
     "execution_count": 434,
     "metadata": {},
     "output_type": "execute_result"
    }
   ],
   "source": [
    "# Check average IMDB score to use as benchmark\n",
    "df['imdb_score'].mean()"
   ]
  },
  {
   "cell_type": "markdown",
   "metadata": {},
   "source": [
    "The average movie has an IMBD score of 6.44, higher would indicate better than average, lower below average"
   ]
  },
  {
   "cell_type": "code",
   "execution_count": 435,
   "metadata": {},
   "outputs": [
    {
     "data": {
      "text/html": [
       "<div>\n",
       "<style scoped>\n",
       "    .dataframe tbody tr th:only-of-type {\n",
       "        vertical-align: middle;\n",
       "    }\n",
       "\n",
       "    .dataframe tbody tr th {\n",
       "        vertical-align: top;\n",
       "    }\n",
       "\n",
       "    .dataframe thead th {\n",
       "        text-align: right;\n",
       "    }\n",
       "</style>\n",
       "<table border=\"1\" class=\"dataframe\">\n",
       "  <thead>\n",
       "    <tr style=\"text-align: right;\">\n",
       "      <th></th>\n",
       "      <th>color</th>\n",
       "      <th>director_name</th>\n",
       "      <th>num_critic_for_reviews</th>\n",
       "      <th>duration</th>\n",
       "      <th>director_facebook_likes</th>\n",
       "      <th>actor_1_facebook_likes</th>\n",
       "      <th>gross</th>\n",
       "      <th>genres</th>\n",
       "      <th>actor_1_name</th>\n",
       "      <th>movie_title</th>\n",
       "      <th>...</th>\n",
       "      <th>Comedy</th>\n",
       "      <th>Crime</th>\n",
       "      <th>Drama</th>\n",
       "      <th>Family</th>\n",
       "      <th>Fantasy</th>\n",
       "      <th>Horror</th>\n",
       "      <th>Mystery</th>\n",
       "      <th>Romance</th>\n",
       "      <th>Sci-Fi</th>\n",
       "      <th>Thriller</th>\n",
       "    </tr>\n",
       "  </thead>\n",
       "  <tbody>\n",
       "    <tr>\n",
       "      <th>0</th>\n",
       "      <td>1</td>\n",
       "      <td>James Cameron</td>\n",
       "      <td>723.0</td>\n",
       "      <td>178.0</td>\n",
       "      <td>0.0</td>\n",
       "      <td>1000.0</td>\n",
       "      <td>760505847.0</td>\n",
       "      <td>[Action, Adventure, Fantasy, Sci-Fi]</td>\n",
       "      <td>CCH Pounder</td>\n",
       "      <td>AvatarÂ</td>\n",
       "      <td>...</td>\n",
       "      <td>0</td>\n",
       "      <td>0</td>\n",
       "      <td>0</td>\n",
       "      <td>0</td>\n",
       "      <td>1</td>\n",
       "      <td>0</td>\n",
       "      <td>0</td>\n",
       "      <td>0</td>\n",
       "      <td>1</td>\n",
       "      <td>0</td>\n",
       "    </tr>\n",
       "    <tr>\n",
       "      <th>1</th>\n",
       "      <td>1</td>\n",
       "      <td>Gore Verbinski</td>\n",
       "      <td>302.0</td>\n",
       "      <td>169.0</td>\n",
       "      <td>563.0</td>\n",
       "      <td>40000.0</td>\n",
       "      <td>309404152.0</td>\n",
       "      <td>[Action, Adventure, Fantasy]</td>\n",
       "      <td>Johnny Depp</td>\n",
       "      <td>Pirates of the Caribbean: At World's EndÂ</td>\n",
       "      <td>...</td>\n",
       "      <td>0</td>\n",
       "      <td>0</td>\n",
       "      <td>0</td>\n",
       "      <td>0</td>\n",
       "      <td>1</td>\n",
       "      <td>0</td>\n",
       "      <td>0</td>\n",
       "      <td>0</td>\n",
       "      <td>0</td>\n",
       "      <td>0</td>\n",
       "    </tr>\n",
       "    <tr>\n",
       "      <th>2</th>\n",
       "      <td>1</td>\n",
       "      <td>Sam Mendes</td>\n",
       "      <td>602.0</td>\n",
       "      <td>148.0</td>\n",
       "      <td>0.0</td>\n",
       "      <td>11000.0</td>\n",
       "      <td>200074175.0</td>\n",
       "      <td>[Action, Adventure, Thriller]</td>\n",
       "      <td>Christoph Waltz</td>\n",
       "      <td>SpectreÂ</td>\n",
       "      <td>...</td>\n",
       "      <td>0</td>\n",
       "      <td>0</td>\n",
       "      <td>0</td>\n",
       "      <td>0</td>\n",
       "      <td>0</td>\n",
       "      <td>0</td>\n",
       "      <td>0</td>\n",
       "      <td>0</td>\n",
       "      <td>0</td>\n",
       "      <td>1</td>\n",
       "    </tr>\n",
       "    <tr>\n",
       "      <th>3</th>\n",
       "      <td>1</td>\n",
       "      <td>Christopher Nolan</td>\n",
       "      <td>813.0</td>\n",
       "      <td>164.0</td>\n",
       "      <td>22000.0</td>\n",
       "      <td>27000.0</td>\n",
       "      <td>448130642.0</td>\n",
       "      <td>[Action, Thriller]</td>\n",
       "      <td>Tom Hardy</td>\n",
       "      <td>The Dark Knight RisesÂ</td>\n",
       "      <td>...</td>\n",
       "      <td>0</td>\n",
       "      <td>0</td>\n",
       "      <td>0</td>\n",
       "      <td>0</td>\n",
       "      <td>0</td>\n",
       "      <td>0</td>\n",
       "      <td>0</td>\n",
       "      <td>0</td>\n",
       "      <td>0</td>\n",
       "      <td>1</td>\n",
       "    </tr>\n",
       "    <tr>\n",
       "      <th>5</th>\n",
       "      <td>1</td>\n",
       "      <td>Andrew Stanton</td>\n",
       "      <td>462.0</td>\n",
       "      <td>132.0</td>\n",
       "      <td>475.0</td>\n",
       "      <td>640.0</td>\n",
       "      <td>73058679.0</td>\n",
       "      <td>[Action, Adventure, Sci-Fi]</td>\n",
       "      <td>Daryl Sabara</td>\n",
       "      <td>John CarterÂ</td>\n",
       "      <td>...</td>\n",
       "      <td>0</td>\n",
       "      <td>0</td>\n",
       "      <td>0</td>\n",
       "      <td>0</td>\n",
       "      <td>0</td>\n",
       "      <td>0</td>\n",
       "      <td>0</td>\n",
       "      <td>0</td>\n",
       "      <td>1</td>\n",
       "      <td>0</td>\n",
       "    </tr>\n",
       "  </tbody>\n",
       "</table>\n",
       "<p>5 rows × 34 columns</p>\n",
       "</div>"
      ],
      "text/plain": [
       "   color      director_name  num_critic_for_reviews  duration  \\\n",
       "0      1      James Cameron                   723.0     178.0   \n",
       "1      1     Gore Verbinski                   302.0     169.0   \n",
       "2      1         Sam Mendes                   602.0     148.0   \n",
       "3      1  Christopher Nolan                   813.0     164.0   \n",
       "5      1     Andrew Stanton                   462.0     132.0   \n",
       "\n",
       "   director_facebook_likes  actor_1_facebook_likes        gross  \\\n",
       "0                      0.0                  1000.0  760505847.0   \n",
       "1                    563.0                 40000.0  309404152.0   \n",
       "2                      0.0                 11000.0  200074175.0   \n",
       "3                  22000.0                 27000.0  448130642.0   \n",
       "5                    475.0                   640.0   73058679.0   \n",
       "\n",
       "                                 genres     actor_1_name  \\\n",
       "0  [Action, Adventure, Fantasy, Sci-Fi]      CCH Pounder   \n",
       "1          [Action, Adventure, Fantasy]      Johnny Depp   \n",
       "2         [Action, Adventure, Thriller]  Christoph Waltz   \n",
       "3                    [Action, Thriller]        Tom Hardy   \n",
       "5           [Action, Adventure, Sci-Fi]     Daryl Sabara   \n",
       "\n",
       "                                  movie_title    ...     Comedy  Crime  Drama  \\\n",
       "0                                    AvatarÂ     ...          0      0      0   \n",
       "1  Pirates of the Caribbean: At World's EndÂ     ...          0      0      0   \n",
       "2                                   SpectreÂ     ...          0      0      0   \n",
       "3                     The Dark Knight RisesÂ     ...          0      0      0   \n",
       "5                               John CarterÂ     ...          0      0      0   \n",
       "\n",
       "   Family  Fantasy  Horror  Mystery  Romance  Sci-Fi  Thriller  \n",
       "0       0        1       0        0        0       1         0  \n",
       "1       0        1       0        0        0       0         0  \n",
       "2       0        0       0        0        0       0         1  \n",
       "3       0        0       0        0        0       0         1  \n",
       "5       0        0       0        0        0       1         0  \n",
       "\n",
       "[5 rows x 34 columns]"
      ]
     },
     "execution_count": 435,
     "metadata": {},
     "output_type": "execute_result"
    }
   ],
   "source": [
    "df['genres'] = df['genres'].str.replace('|', ',')\n",
    "df['genres'] = df['genres'].str.split(',')\n",
    "df1 = df['genres'].str.join('|').str.get_dummies()\n",
    "df1 = df1.drop(['Animation', 'Biography', 'Documentary', 'Film-Noir', 'History', 'Music', 'Musical',\n",
    "                'News', 'Short', 'Sport', 'War', 'Western'], axis = 1)\n",
    "df = df.join(df1)\n",
    "df.drop(['genres'], axis=1)\n",
    "df.head()"
   ]
  },
  {
   "cell_type": "code",
   "execution_count": 436,
   "metadata": {},
   "outputs": [
    {
     "data": {
      "text/html": [
       "<div>\n",
       "<style scoped>\n",
       "    .dataframe tbody tr th:only-of-type {\n",
       "        vertical-align: middle;\n",
       "    }\n",
       "\n",
       "    .dataframe tbody tr th {\n",
       "        vertical-align: top;\n",
       "    }\n",
       "\n",
       "    .dataframe thead th {\n",
       "        text-align: right;\n",
       "    }\n",
       "</style>\n",
       "<table border=\"1\" class=\"dataframe\">\n",
       "  <thead>\n",
       "    <tr style=\"text-align: right;\">\n",
       "      <th></th>\n",
       "      <th>imdb_score</th>\n",
       "    </tr>\n",
       "  </thead>\n",
       "  <tbody>\n",
       "    <tr>\n",
       "      <th>num_voted_users</th>\n",
       "      <td>0.428369</td>\n",
       "    </tr>\n",
       "    <tr>\n",
       "      <th>duration</th>\n",
       "      <td>0.343447</td>\n",
       "    </tr>\n",
       "    <tr>\n",
       "      <th>num_critic_for_reviews</th>\n",
       "      <td>0.333486</td>\n",
       "    </tr>\n",
       "    <tr>\n",
       "      <th>num_user_for_reviews</th>\n",
       "      <td>0.307823</td>\n",
       "    </tr>\n",
       "    <tr>\n",
       "      <th>Drama</th>\n",
       "      <td>0.293840</td>\n",
       "    </tr>\n",
       "    <tr>\n",
       "      <th>movie_facebook_likes</th>\n",
       "      <td>0.256474</td>\n",
       "    </tr>\n",
       "    <tr>\n",
       "      <th>gross</th>\n",
       "      <td>0.186044</td>\n",
       "    </tr>\n",
       "    <tr>\n",
       "      <th>director_facebook_likes</th>\n",
       "      <td>0.172261</td>\n",
       "    </tr>\n",
       "    <tr>\n",
       "      <th>content_rating_5</th>\n",
       "      <td>0.086228</td>\n",
       "    </tr>\n",
       "    <tr>\n",
       "      <th>actor_1_facebook_likes</th>\n",
       "      <td>0.085148</td>\n",
       "    </tr>\n",
       "    <tr>\n",
       "      <th>budget</th>\n",
       "      <td>0.050139</td>\n",
       "    </tr>\n",
       "    <tr>\n",
       "      <th>Crime</th>\n",
       "      <td>0.039570</td>\n",
       "    </tr>\n",
       "    <tr>\n",
       "      <th>content_rating</th>\n",
       "      <td>0.038567</td>\n",
       "    </tr>\n",
       "    <tr>\n",
       "      <th>content_rating_2</th>\n",
       "      <td>0.014189</td>\n",
       "    </tr>\n",
       "    <tr>\n",
       "      <th>Romance</th>\n",
       "      <td>0.011278</td>\n",
       "    </tr>\n",
       "    <tr>\n",
       "      <th>content_rating_1</th>\n",
       "      <td>0.008191</td>\n",
       "    </tr>\n",
       "    <tr>\n",
       "      <th>Adventure</th>\n",
       "      <td>0.004243</td>\n",
       "    </tr>\n",
       "    <tr>\n",
       "      <th>Mystery</th>\n",
       "      <td>0.001640</td>\n",
       "    </tr>\n",
       "    <tr>\n",
       "      <th>content_rating_3</th>\n",
       "      <td>-0.043017</td>\n",
       "    </tr>\n",
       "    <tr>\n",
       "      <th>Fantasy</th>\n",
       "      <td>-0.044542</td>\n",
       "    </tr>\n",
       "    <tr>\n",
       "      <th>Sci-Fi</th>\n",
       "      <td>-0.058798</td>\n",
       "    </tr>\n",
       "    <tr>\n",
       "      <th>Family</th>\n",
       "      <td>-0.062104</td>\n",
       "    </tr>\n",
       "    <tr>\n",
       "      <th>content_rating_4</th>\n",
       "      <td>-0.069417</td>\n",
       "    </tr>\n",
       "    <tr>\n",
       "      <th>Thriller</th>\n",
       "      <td>-0.073012</td>\n",
       "    </tr>\n",
       "    <tr>\n",
       "      <th>Action</th>\n",
       "      <td>-0.098603</td>\n",
       "    </tr>\n",
       "    <tr>\n",
       "      <th>color</th>\n",
       "      <td>-0.148878</td>\n",
       "    </tr>\n",
       "    <tr>\n",
       "      <th>Comedy</th>\n",
       "      <td>-0.171770</td>\n",
       "    </tr>\n",
       "    <tr>\n",
       "      <th>Horror</th>\n",
       "      <td>-0.192776</td>\n",
       "    </tr>\n",
       "    <tr>\n",
       "      <th>title_year</th>\n",
       "      <td>-0.208218</td>\n",
       "    </tr>\n",
       "  </tbody>\n",
       "</table>\n",
       "</div>"
      ],
      "text/plain": [
       "                         imdb_score\n",
       "num_voted_users            0.428369\n",
       "duration                   0.343447\n",
       "num_critic_for_reviews     0.333486\n",
       "num_user_for_reviews       0.307823\n",
       "Drama                      0.293840\n",
       "movie_facebook_likes       0.256474\n",
       "gross                      0.186044\n",
       "director_facebook_likes    0.172261\n",
       "content_rating_5           0.086228\n",
       "actor_1_facebook_likes     0.085148\n",
       "budget                     0.050139\n",
       "Crime                      0.039570\n",
       "content_rating             0.038567\n",
       "content_rating_2           0.014189\n",
       "Romance                    0.011278\n",
       "content_rating_1           0.008191\n",
       "Adventure                  0.004243\n",
       "Mystery                    0.001640\n",
       "content_rating_3          -0.043017\n",
       "Fantasy                   -0.044542\n",
       "Sci-Fi                    -0.058798\n",
       "Family                    -0.062104\n",
       "content_rating_4          -0.069417\n",
       "Thriller                  -0.073012\n",
       "Action                    -0.098603\n",
       "color                     -0.148878\n",
       "Comedy                    -0.171770\n",
       "Horror                    -0.192776\n",
       "title_year                -0.208218"
      ]
     },
     "execution_count": 436,
     "metadata": {},
     "output_type": "execute_result"
    }
   ],
   "source": [
    "#Check correlation after cleaning data\n",
    "corr = pd.DataFrame(df.corr()['imdb_score'].drop('imdb_score'))\n",
    "corr.sort_values(['imdb_score'], ascending = False)"
   ]
  },
  {
   "cell_type": "markdown",
   "metadata": {},
   "source": [
    "Duration, number of user votes, number of user reviews, number of critic votes and number of facebook likes are all positively \n",
    "correlated to IMDB score.  Also, number of user reviews, number of user votes, number of critic reviews, and movie facebook\n",
    "likes are extremely well correlated to one another."
   ]
  },
  {
   "cell_type": "code",
   "execution_count": 437,
   "metadata": {},
   "outputs": [
    {
     "data": {
      "text/plain": [
       "<seaborn.axisgrid.FacetGrid at 0x24222978>"
      ]
     },
     "execution_count": 437,
     "metadata": {},
     "output_type": "execute_result"
    },
    {
     "data": {
      "image/png": "[encoded data removed]",
      "text/plain": [
       "<Figure size 360x360 with 1 Axes>"
      ]
     },
     "metadata": {},
     "output_type": "display_data"
    }
   ],
   "source": [
    "#Now we can check number of critic's reviews.\n",
    "sns.lmplot('num_critic_for_reviews', 'imdb_score', data=df)"
   ]
  },
  {
   "cell_type": "code",
   "execution_count": 438,
   "metadata": {},
   "outputs": [
    {
     "data": {
      "text/plain": [
       "<matplotlib.axes._subplots.AxesSubplot at 0x245ef438>"
      ]
     },
     "execution_count": 438,
     "metadata": {},
     "output_type": "execute_result"
    },
    {
     "data": {
      "image/png": "[encoded data removed]",
      "text/plain": [
       "<Figure size 720x720 with 1 Axes>"
      ]
     },
     "metadata": {},
     "output_type": "display_data"
    }
   ],
   "source": [
    "#Divide critic ratings into 5 categories\n",
    "df['critic_cat']= pd.qcut(df['num_critic_for_reviews'], 5, labels=['1', '2', '3', '4', '5'])\n",
    "#Show a boxplot of IMDB scores for each category\n",
    "df.boxplot('imdb_score', by='critic_cat', figsize=(10,10))\n"
   ]
  },
  {
   "cell_type": "markdown",
   "metadata": {},
   "source": [
    "Here we can clearly see the whiskers of the boxplot narrow with increased critic reviews."
   ]
  },
  {
   "cell_type": "code",
   "execution_count": 439,
   "metadata": {},
   "outputs": [
    {
     "data": {
      "text/plain": [
       "<seaborn.axisgrid.FacetGrid at 0x24112f60>"
      ]
     },
     "execution_count": 439,
     "metadata": {},
     "output_type": "execute_result"
    },
    {
     "data": {
      "image/png": "[encoded data removed]",
      "text/plain": [
       "<Figure size 360x360 with 1 Axes>"
      ]
     },
     "metadata": {},
     "output_type": "display_data"
    }
   ],
   "source": [
    "#Check scatter plot for duration and imdb_score\n",
    "sns.lmplot('duration', 'imdb_score', data=df)"
   ]
  },
  {
   "cell_type": "markdown",
   "metadata": {},
   "source": [
    "From this scatter plot we can see the linear regression line has a positive slope, \n",
    "indicating increased duration has a positive correlation with IMDB scores.  We can also see from the shape of the distribution\n",
    "that short movies and long movies have higher scores.  The majority of low IMBD scores occur in the middle of the duration range."
   ]
  },
  {
   "cell_type": "code",
   "execution_count": 440,
   "metadata": {},
   "outputs": [],
   "source": [
    "#Create score categories to simplify analysis\n",
    "df['score_cat'] = 'bad'\n",
    "df.loc[df['imdb_score'] > 4, 'score_cat' ] = 'ok'\n",
    "df.loc[df['imdb_score'] > 6, 'score_cat' ] = 'good'\n",
    "df.loc[df['imdb_score'] > 8, 'score_cat' ] = 'excellent'"
   ]
  },
  {
   "cell_type": "code",
   "execution_count": 441,
   "metadata": {},
   "outputs": [
    {
     "data": {
      "text/plain": [
       "<seaborn.axisgrid.FacetGrid at 0x24b78eb8>"
      ]
     },
     "execution_count": 441,
     "metadata": {},
     "output_type": "execute_result"
    },
    {
     "data": {
      "image/png": "[encoded data removed]",
      "text/plain": [
       "<Figure size 629.25x288 with 1 Axes>"
      ]
     },
     "metadata": {},
     "output_type": "display_data"
    }
   ],
   "source": [
    "#Check a factor plot with duration with critic and score categories\n",
    "sns.factorplot(\"score_cat\", \"duration\", \"critic_cat\", data=df, kind=\"bar\", aspect=2)"
   ]
  },
  {
   "cell_type": "markdown",
   "metadata": {},
   "source": [
    "Here we can see the difference in duration within score categories and critic categories"
   ]
  },
  {
   "cell_type": "code",
   "execution_count": 442,
   "metadata": {},
   "outputs": [
    {
     "data": {
      "text/plain": [
       "<seaborn.axisgrid.FacetGrid at 0x250f9438>"
      ]
     },
     "execution_count": 442,
     "metadata": {},
     "output_type": "execute_result"
    },
    {
     "data": {
      "image/png": "[encoded data removed]",
      "text/plain": [
       "<Figure size 360x360 with 1 Axes>"
      ]
     },
     "metadata": {},
     "output_type": "display_data"
    }
   ],
   "source": [
    "#Check scatter plot for num_voted_users and imdb_score\n",
    "sns.lmplot('num_voted_users', 'imdb_score', data=df)"
   ]
  },
  {
   "cell_type": "markdown",
   "metadata": {},
   "source": [
    "This plot is similar to number of critic reviews.  Low range of number of votes by use has a very large range of ratings.\n",
    "High number of votes has a indicates a high IMDB score"
   ]
  },
  {
   "cell_type": "code",
   "execution_count": 443,
   "metadata": {},
   "outputs": [
    {
     "data": {
      "text/plain": [
       "<seaborn.axisgrid.FacetGrid at 0x24b6db38>"
      ]
     },
     "execution_count": 443,
     "metadata": {},
     "output_type": "execute_result"
    },
    {
     "data": {
      "image/png": "[encoded data removed]",
      "text/plain": [
       "<Figure size 864x216 with 4 Axes>"
      ]
     },
     "metadata": {},
     "output_type": "display_data"
    }
   ],
   "source": [
    "#To see this scatterplot more clearly, we can use a Facet Grid and score categories.  Also we can bring in number of critic reviews.\n",
    "g = sns.FacetGrid(df, col='score_cat')\n",
    "g.map(plt.scatter, 'num_critic_for_reviews', 'num_voted_users')"
   ]
  },
  {
   "cell_type": "markdown",
   "metadata": {},
   "source": [
    "Here we can see the difference in the distributions for low, medium and high rated movies.  Also, the scatter plots show\n",
    "us the correlation between number of critic and number user votes."
   ]
  },
  {
   "cell_type": "code",
   "execution_count": 444,
   "metadata": {},
   "outputs": [
    {
     "data": {
      "text/plain": [
       "<seaborn.axisgrid.FacetGrid at 0x22226e80>"
      ]
     },
     "execution_count": 444,
     "metadata": {},
     "output_type": "execute_result"
    },
    {
     "data": {
      "image/png": "[encoded data removed]",
      "text/plain": [
       "<Figure size 1440x360 with 4 Axes>"
      ]
     },
     "metadata": {},
     "output_type": "display_data"
    }
   ],
   "source": [
    "#Scatter plots for number of critic reviews and number of user reviews for each score category\n",
    "sns.lmplot('num_user_for_reviews', 'num_critic_for_reviews', df, col='score_cat', hue='score_cat')"
   ]
  },
  {
   "cell_type": "markdown",
   "metadata": {},
   "source": [
    "Here we see a very strong correlation between number of critic reviews and number of user reviews.  The range of user reviews expands nicely as the score category increases."
   ]
  },
  {
   "cell_type": "code",
   "execution_count": 445,
   "metadata": {},
   "outputs": [
    {
     "data": {
      "text/plain": [
       "count      4883.000000\n",
       "mean       7565.670285\n",
       "std       19437.141919\n",
       "min           0.000000\n",
       "25%           0.000000\n",
       "50%         166.000000\n",
       "75%        3000.000000\n",
       "max      349000.000000\n",
       "Name: movie_facebook_likes, dtype: float64"
      ]
     },
     "execution_count": 445,
     "metadata": {},
     "output_type": "execute_result"
    }
   ],
   "source": [
    "#Now we can check facebook movie likes\n",
    "df['movie_facebook_likes'].describe()"
   ]
  },
  {
   "cell_type": "code",
   "execution_count": 446,
   "metadata": {},
   "outputs": [],
   "source": [
    "#We need to remove the outlier and replace with the median\n",
    "df = df.replace({'movie_facebook_likes': 349000}, {'movie_facebook_likes': 163})"
   ]
  },
  {
   "cell_type": "code",
   "execution_count": 447,
   "metadata": {},
   "outputs": [
    {
     "data": {
      "text/plain": [
       "<seaborn.axisgrid.FacetGrid at 0x253cb3c8>"
      ]
     },
     "execution_count": 447,
     "metadata": {},
     "output_type": "execute_result"
    },
    {
     "data": {
      "image/png": "[encoded data removed]",
      "text/plain": [
       "<Figure size 657.75x576 with 1 Axes>"
      ]
     },
     "metadata": {},
     "output_type": "display_data"
    }
   ],
   "source": [
    "#Check scatterplot for movie facebook likes and user votes\n",
    "sns.lmplot(\"movie_facebook_likes\", \"num_voted_users\", df, hue=\"score_cat\", x_jitter=.15, size=8)"
   ]
  },
  {
   "cell_type": "markdown",
   "metadata": {},
   "source": [
    "Below average movies are more likely to get facebook movie likes than user votes."
   ]
  },
  {
   "cell_type": "code",
   "execution_count": 448,
   "metadata": {},
   "outputs": [
    {
     "data": {
      "text/plain": [
       "Steven Spielberg    26\n",
       "Woody Allen         22\n",
       "Martin Scorsese     20\n",
       "Clint Eastwood      20\n",
       "Ridley Scott        17\n",
       "Name: director_name, dtype: int64"
      ]
     },
     "execution_count": 448,
     "metadata": {},
     "output_type": "execute_result"
    }
   ],
   "source": [
    "#First lets check the 5 most frequent directors\n",
    "df['director_name'].value_counts().sort_values(ascending=False).head(5)"
   ]
  },
  {
   "cell_type": "code",
   "execution_count": 449,
   "metadata": {},
   "outputs": [
    {
     "data": {
      "text/plain": [
       "director_name\n",
       "Clint Eastwood      7.225000\n",
       "Martin Scorsese     7.660000\n",
       "Ridley Scott        7.070588\n",
       "Steven Spielberg    7.480769\n",
       "Woody Allen         7.009091\n",
       "Name: imdb_score, dtype: float64"
      ]
     },
     "execution_count": 449,
     "metadata": {},
     "output_type": "execute_result"
    }
   ],
   "source": [
    "#Now lets check the 5 most frequent directors average IMDB scores\n",
    "steven = df[df['director_name'] == 'Steven Spielberg' ]\n",
    "woody = df[df['director_name'] == 'Woody Allen' ]\n",
    "martin = df[df['director_name'] == 'Martin Scorsese' ]\n",
    "clint = df[df['director_name'] == 'Clint Eastwood' ] \n",
    "ridley = df[df['director_name'] == 'Ridley Scott' ] \n",
    "top5 = steven.append([woody, martin, clint, ridley])\n",
    "top5.groupby('director_name')['imdb_score'].mean()"
   ]
  },
  {
   "cell_type": "markdown",
   "metadata": {},
   "source": [
    "Here we can see that all 5 directors have IMDB score well over the average of 6.44"
   ]
  },
  {
   "cell_type": "code",
   "execution_count": 450,
   "metadata": {},
   "outputs": [
    {
     "name": "stdout",
     "output_type": "stream",
     "text": [
      "        Multiple Comparison of Means - Tukey HSD,FWER=0.05       \n",
      "=================================================================\n",
      "     group1           group2      meandiff  lower   upper  reject\n",
      "-----------------------------------------------------------------\n",
      " Clint Eastwood  Martin Scorsese   0.435   -0.1896  1.0596 False \n",
      " Clint Eastwood    Ridley Scott   -0.1544   -0.806  0.4971 False \n",
      " Clint Eastwood  Steven Spielberg  0.2558  -0.3317  0.8432 False \n",
      " Clint Eastwood    Woody Allen    -0.2159  -0.8261  0.3943 False \n",
      "Martin Scorsese    Ridley Scott   -0.5894   -1.241  0.0621 False \n",
      "Martin Scorsese  Steven Spielberg -0.1792  -0.7667  0.4082 False \n",
      "Martin Scorsese    Woody Allen    -0.6509  -1.2611 -0.0407  True \n",
      "  Ridley Scott   Steven Spielberg  0.4102  -0.2059  1.0262 False \n",
      "  Ridley Scott     Woody Allen    -0.0615  -0.6993  0.5763 False \n",
      "Steven Spielberg   Woody Allen    -0.4717  -1.0438  0.1005 False \n",
      "-----------------------------------------------------------------\n"
     ]
    }
   ],
   "source": [
    "# Lets check to see if any director in the top 5 is distinguishable from the others\n",
    "print pairwise_tukeyhsd(top5['imdb_score'], top5['director_name'])"
   ]
  },
  {
   "cell_type": "markdown",
   "metadata": {},
   "source": [
    "Only the highest rated director (Martin Scorsese) and lowest rated (Woody Allen) have samples that are statistically different."
   ]
  },
  {
   "cell_type": "code",
   "execution_count": 451,
   "metadata": {},
   "outputs": [
    {
     "name": "stdout",
     "output_type": "stream",
     "text": [
      "The t-statistic is 7.143 and the p-value is 0.000.\n"
     ]
    }
   ],
   "source": [
    "#Lets check to see if Steven Spielberg IMDB score is different than the population mean\n",
    "one_sample = stats.ttest_1samp(steven['imdb_score'], 6.44)\n",
    "print \"The t-statistic is %.3f and the p-value is %.3f.\" % one_sample"
   ]
  },
  {
   "cell_type": "code",
   "execution_count": 452,
   "metadata": {},
   "outputs": [
    {
     "name": "stdout",
     "output_type": "stream",
     "text": [
      "The t-statistic is 5.045 and the p-value is 0.000.\n"
     ]
    }
   ],
   "source": [
    "#Lets check to see if Woody Allen IMDB score is different than the population mean\n",
    "one_sample = stats.ttest_1samp(woody['imdb_score'], 6.44)\n",
    "print \"The t-statistic is %.3f and the p-value is %.3f.\" % one_sample"
   ]
  },
  {
   "cell_type": "code",
   "execution_count": 453,
   "metadata": {},
   "outputs": [
    {
     "name": "stdout",
     "output_type": "stream",
     "text": [
      "The t-statistic is 9.048 and the p-value is 0.000.\n"
     ]
    }
   ],
   "source": [
    "#Lets check to see if Martin Scorsese IMDB score is different than the population mean\n",
    "one_sample = stats.ttest_1samp(martin['imdb_score'], 6.44)\n",
    "print \"The t-statistic is %.3f and the p-value is %.3f.\" % one_sample"
   ]
  },
  {
   "cell_type": "code",
   "execution_count": 454,
   "metadata": {},
   "outputs": [
    {
     "name": "stdout",
     "output_type": "stream",
     "text": [
      "The t-statistic is 5.008 and the p-value is 0.000.\n"
     ]
    }
   ],
   "source": [
    "#Lets check to see if Clint Eastwood IMDB score is different than the population mean\n",
    "one_sample = stats.ttest_1samp(clint['imdb_score'], 6.44)\n",
    "print \"The t-statistic is %.3f and the p-value is %.3f.\" % one_sample"
   ]
  },
  {
   "cell_type": "code",
   "execution_count": 455,
   "metadata": {},
   "outputs": [
    {
     "name": "stdout",
     "output_type": "stream",
     "text": [
      "The t-statistic is 2.720 and the p-value is 0.015.\n"
     ]
    }
   ],
   "source": [
    "#Lets check to see if Ridley Scott IMDB score is different than the population mean\n",
    "one_sample = stats.ttest_1samp(ridley['imdb_score'], 6.44)\n",
    "print \"The t-statistic is %.3f and the p-value is %.3f.\" % one_sample"
   ]
  },
  {
   "cell_type": "markdown",
   "metadata": {},
   "source": [
    "All 5 directors have IMDB score that are statistically significant from the mean of the dataset of 6.44."
   ]
  },
  {
   "cell_type": "code",
   "execution_count": 456,
   "metadata": {},
   "outputs": [
    {
     "data": {
      "text/plain": [
       "<seaborn.axisgrid.FacetGrid at 0x195c6128>"
      ]
     },
     "execution_count": 456,
     "metadata": {},
     "output_type": "execute_result"
    },
    {
     "data": {
      "image/png": "[encoded data removed]",
      "text/plain": [
       "<Figure size 360x360 with 1 Axes>"
      ]
     },
     "metadata": {},
     "output_type": "display_data"
    }
   ],
   "source": [
    "sns.lmplot('director_facebook_likes', 'imdb_score', data=df)"
   ]
  },
  {
   "cell_type": "markdown",
   "metadata": {},
   "source": [
    "Very few below average movies have directors with significant facebook likes."
   ]
  },
  {
   "cell_type": "code",
   "execution_count": 457,
   "metadata": {},
   "outputs": [
    {
     "data": {
      "text/plain": [
       "Robert De Niro    49\n",
       "Johnny Depp       40\n",
       "Nicolas Cage      32\n",
       "J.K. Simmons      31\n",
       "Matt Damon        30\n",
       "Name: actor_1_name, dtype: int64"
      ]
     },
     "execution_count": 457,
     "metadata": {},
     "output_type": "execute_result"
    }
   ],
   "source": [
    "#Now we can check top actor IMDB scores and actor likes\n",
    "#Check the IMDB score for the top 5 most frequent actors\n",
    "df['actor_1_name'].value_counts().sort_values(ascending=False).head(5)"
   ]
  },
  {
   "cell_type": "code",
   "execution_count": 458,
   "metadata": {},
   "outputs": [
    {
     "data": {
      "text/plain": [
       "actor_1_name\n",
       "Denzel Washington    7.083333\n",
       "J.K. Simmons         6.674194\n",
       "Johnny Depp          6.735000\n",
       "Nicolas Cage         6.212500\n",
       "Robert De Niro       6.746939\n",
       "Name: imdb_score, dtype: float64"
      ]
     },
     "execution_count": 458,
     "metadata": {},
     "output_type": "execute_result"
    }
   ],
   "source": [
    "#Now find the average IMDB score for the most frequent actors\n",
    "robert = df[df['actor_1_name'] == 'Robert De Niro' ]\n",
    "johnny = df[df['actor_1_name'] == 'Johnny Depp' ]\n",
    "nicolas = df[df['actor_1_name'] == 'Nicolas Cage' ]\n",
    "kj = df[df['actor_1_name'] == 'J.K. Simmons' ] \n",
    "denzel = df[df['actor_1_name'] == 'Denzel Washington' ] \n",
    "top5act = robert.append([johnny, nicolas, kj, denzel])\n",
    "top5act.groupby('actor_1_name')['imdb_score'].mean()"
   ]
  },
  {
   "cell_type": "markdown",
   "metadata": {},
   "source": [
    "Note that Nicolas Cage as below average rating, and some others are close.  Denzel Washington has a strong rating of 7.08"
   ]
  },
  {
   "cell_type": "code",
   "execution_count": 459,
   "metadata": {},
   "outputs": [
    {
     "name": "stdout",
     "output_type": "stream",
     "text": [
      "       Multiple Comparison of Means - Tukey HSD,FWER=0.05       \n",
      "================================================================\n",
      "      group1          group2     meandiff  lower   upper  reject\n",
      "----------------------------------------------------------------\n",
      "Denzel Washington  J.K. Simmons  -0.4091  -1.0425  0.2242 False \n",
      "Denzel Washington  Johnny Depp   -0.3483  -0.9456  0.2489 False \n",
      "Denzel Washington  Nicolas Cage  -0.8708  -1.4993 -0.2424  True \n",
      "Denzel Washington Robert De Niro -0.3364  -0.9097  0.2369 False \n",
      "   J.K. Simmons    Johnny Depp    0.0608  -0.5309  0.6525 False \n",
      "   J.K. Simmons    Nicolas Cage  -0.4617  -1.0849  0.1615 False \n",
      "   J.K. Simmons   Robert De Niro  0.0727  -0.4948  0.6403 False \n",
      "   Johnny Depp     Nicolas Cage  -0.5225   -1.109  0.064  False \n",
      "   Johnny Depp    Robert De Niro  0.0119   -0.515  0.5389 False \n",
      "   Nicolas Cage   Robert De Niro  0.5344  -0.0276  1.0965 False \n",
      "----------------------------------------------------------------\n"
     ]
    }
   ],
   "source": [
    "#Check to see if there is significant difference between actors\n",
    "print pairwise_tukeyhsd(top5act['imdb_score'], top5act['actor_1_name'])"
   ]
  },
  {
   "cell_type": "markdown",
   "metadata": {},
   "source": [
    "Again the only significant difference is between the highest rated (Denzel Washington) and lowest rated (Nicholas Cage)"
   ]
  },
  {
   "cell_type": "code",
   "execution_count": 460,
   "metadata": {},
   "outputs": [
    {
     "name": "stdout",
     "output_type": "stream",
     "text": [
      "The t-statistic is 5.970 and the p-value is 0.000.\n"
     ]
    }
   ],
   "source": [
    "#Lets check to see if Denzel Washington IMDB score is different than the population mean\n",
    "one_sample = stats.ttest_1samp(denzel['imdb_score'], 6.44)\n",
    "print \"The t-statistic is %.3f and the p-value is %.3f.\" % one_sample"
   ]
  },
  {
   "cell_type": "code",
   "execution_count": 461,
   "metadata": {},
   "outputs": [
    {
     "name": "stdout",
     "output_type": "stream",
     "text": [
      "The t-statistic is 1.733 and the p-value is 0.093.\n"
     ]
    }
   ],
   "source": [
    "#Lets check to see if K.J. Simon IMDB score is different than the population mean\n",
    "one_sample = stats.ttest_1samp(kj['imdb_score'], 6.44)\n",
    "print \"The t-statistic is %.3f and the p-value is %.3f.\" % one_sample"
   ]
  },
  {
   "cell_type": "code",
   "execution_count": 462,
   "metadata": {},
   "outputs": [
    {
     "name": "stdout",
     "output_type": "stream",
     "text": [
      "The t-statistic is 2.089 and the p-value is 0.043.\n"
     ]
    }
   ],
   "source": [
    "#Lets check to see if Jonny Depp IMDB score is different than the population mean\n",
    "one_sample = stats.ttest_1samp(johnny['imdb_score'], 6.44)\n",
    "print \"The t-statistic is %.3f and the p-value is %.3f.\" % one_sample"
   ]
  },
  {
   "cell_type": "code",
   "execution_count": 463,
   "metadata": {},
   "outputs": [
    {
     "name": "stdout",
     "output_type": "stream",
     "text": [
      "The t-statistic is -1.290 and the p-value is 0.206.\n"
     ]
    }
   ],
   "source": [
    "#Lets check to see if Nicolas Cage IMDB score is different than the population mean\n",
    "one_sample = stats.ttest_1samp(nicolas['imdb_score'], 6.44)\n",
    "print \"The t-statistic is %.3f and the p-value is %.3f.\" % one_sample"
   ]
  },
  {
   "cell_type": "code",
   "execution_count": 464,
   "metadata": {},
   "outputs": [
    {
     "name": "stdout",
     "output_type": "stream",
     "text": [
      "The t-statistic is 2.036 and the p-value is 0.047.\n"
     ]
    }
   ],
   "source": [
    "#Lets check to see if Robert De Niro IMDB score is different than the population mean\n",
    "one_sample = stats.ttest_1samp(robert['imdb_score'], 6.44)\n",
    "print \"The t-statistic is %.3f and the p-value is %.3f.\" % one_sample"
   ]
  },
  {
   "cell_type": "markdown",
   "metadata": {},
   "source": [
    "J.K. Simmons and Nicolas Cage fail to produce better than average movies, despite being in the top 5 most frequent \n",
    "leading actor."
   ]
  },
  {
   "cell_type": "code",
   "execution_count": 465,
   "metadata": {},
   "outputs": [
    {
     "name": "stdout",
     "output_type": "stream",
     "text": [
      "The t-statistic is -15.165 and the p-value is 0.000.\n"
     ]
    }
   ],
   "source": [
    "#Lets compare most frequent actor facebook likes to the average.\n",
    "overall_facea = df['actor_1_facebook_likes']\n",
    "top5_facea = top5act['actor_1_facebook_likes']\n",
    "two_sample = stats.ttest_ind(overall_facea, top5_facea)\n",
    "print \"The t-statistic is %.3f and the p-value is %.3f.\" % two_sample"
   ]
  },
  {
   "cell_type": "markdown",
   "metadata": {},
   "source": [
    "The top 5 most frequent actors have more facebook likes than the average leading actor."
   ]
  },
  {
   "cell_type": "code",
   "execution_count": 466,
   "metadata": {},
   "outputs": [
    {
     "data": {
      "text/plain": [
       "<seaborn.axisgrid.FacetGrid at 0x111e6710>"
      ]
     },
     "execution_count": 466,
     "metadata": {},
     "output_type": "execute_result"
    },
    {
     "data": {
      "image/png": "[encoded data removed]",
      "text/plain": [
       "<Figure size 1440x360 with 4 Axes>"
      ]
     },
     "metadata": {},
     "output_type": "display_data"
    }
   ],
   "source": [
    "#Scatter plots for gross and budget for each score category.\n",
    "sns.lmplot('gross', 'budget', df, col='score_cat', hue='score_cat')"
   ]
  },
  {
   "cell_type": "markdown",
   "metadata": {},
   "source": [
    "From this plot we can see that it is rare to have a high grossing move that is average or low scoring.  Also we can see that \n",
    "there are several high budget movies that failed to produce any meaning returns."
   ]
  },
  {
   "cell_type": "code",
   "execution_count": 467,
   "metadata": {},
   "outputs": [
    {
     "data": {
      "text/plain": [
       "<matplotlib.axes._subplots.AxesSubplot at 0x26019358>"
      ]
     },
     "execution_count": 467,
     "metadata": {},
     "output_type": "execute_result"
    },
    {
     "data": {
      "image/png": "[encoded data removed]",
      "text/plain": [
       "<Figure size 432x288 with 1 Axes>"
      ]
     },
     "metadata": {},
     "output_type": "display_data"
    }
   ],
   "source": [
    "#Check average IMDB score for each rating category\n",
    "df.groupby('content_rating')['imdb_score'].mean().plot(kind='bar')"
   ]
  },
  {
   "cell_type": "markdown",
   "metadata": {},
   "source": [
    "All ratings have very similar average IMDB scores.  Also note that all content ratings had low correlation with IMDB scores."
   ]
  },
  {
   "cell_type": "code",
   "execution_count": 468,
   "metadata": {},
   "outputs": [
    {
     "name": "stdout",
     "output_type": "stream",
     "text": [
      "Multiple Comparison of Means - Tukey HSD,FWER=0.05\n",
      "============================================\n",
      "group1 group2 meandiff  lower  upper  reject\n",
      "--------------------------------------------\n",
      "  1      2     0.0718   -0.245 0.3886 False \n",
      "  1      3    -0.1459  -0.3313 0.0396 False \n",
      "  1      4     -0.145  -0.3108 0.0209 False \n",
      "  1      5      0.08   -0.0805 0.2405 False \n",
      "  2      3    -0.2177  -0.5207 0.0854 False \n",
      "  2      4    -0.2168  -0.5083 0.0747 False \n",
      "  2      5     0.0082  -0.2803 0.2967 False \n",
      "  3      4     0.0009   -0.137 0.1388 False \n",
      "  3      5     0.2259   0.0945 0.3572  True \n",
      "  4      5     0.225    0.1231 0.3268  True \n",
      "--------------------------------------------\n"
     ]
    }
   ],
   "source": [
    "#Finally, lets check to see if the difference in ratings are statistically significant.\n",
    "print pairwise_tukeyhsd(df['imdb_score'], df['content_rating'])"
   ]
  },
  {
   "cell_type": "markdown",
   "metadata": {},
   "source": [
    "Non-rated and R rated movies have the highest scores and they are statistically different than PG and PG-13 rated movies."
   ]
  },
  {
   "cell_type": "code",
   "execution_count": 469,
   "metadata": {},
   "outputs": [
    {
     "data": {
      "text/plain": [
       "<seaborn.axisgrid.FacetGrid at 0x2672ceb8>"
      ]
     },
     "execution_count": 469,
     "metadata": {},
     "output_type": "execute_result"
    },
    {
     "data": {
      "image/png": "[encoded data removed]",
      "text/plain": [
       "<Figure size 360x360 with 1 Axes>"
      ]
     },
     "metadata": {},
     "output_type": "display_data"
    }
   ],
   "source": [
    "#Now we can check title year\n",
    "sns.lmplot('title_year', 'imdb_score', data=df)"
   ]
  },
  {
   "cell_type": "code",
   "execution_count": 470,
   "metadata": {},
   "outputs": [
    {
     "data": {
      "text/plain": [
       "<matplotlib.axes._subplots.AxesSubplot at 0x268787b8>"
      ]
     },
     "execution_count": 470,
     "metadata": {},
     "output_type": "execute_result"
    },
    {
     "data": {
      "image/png": "[encoded data removed]",
      "text/plain": [
       "<Figure size 432x288 with 1 Axes>"
      ]
     },
     "metadata": {},
     "output_type": "display_data"
    }
   ],
   "source": [
    "#Check the effect of color on IMDB score\n",
    "df.groupby('color')['imdb_score'].mean().plot(kind='bar')"
   ]
  },
  {
   "cell_type": "code",
   "execution_count": 471,
   "metadata": {},
   "outputs": [
    {
     "name": "stdout",
     "output_type": "stream",
     "text": [
      "The t-statistic is 10.518 and the p-value is 0.000.\n"
     ]
    }
   ],
   "source": [
    "#Run a t-test to see if there is a significant difference between average IMDB scores\n",
    "baw = df[df['color'] == 0]['imdb_score']\n",
    "col = df[df['color'] == 1]['imdb_score']\n",
    "two_sample = stats.ttest_ind(baw, col)\n",
    "print \"The t-statistic is %.3f and the p-value is %.3f.\" % two_sample"
   ]
  },
  {
   "cell_type": "markdown",
   "metadata": {},
   "source": [
    "We can see there is a clear statistical difference between the movies in color and black and white.  Since the average score\n",
    "for movies in black and white is higher, we can conclude that black and white movies have a higher IMDB score."
   ]
  },
  {
   "cell_type": "code",
   "execution_count": 472,
   "metadata": {},
   "outputs": [],
   "source": [
    "#Now we run regression models\n",
    "#regression packages\n",
    "import sklearn.linear_model as lm\n",
    "from sklearn.metrics import mean_squared_error\n",
    "from sklearn.metrics import explained_variance_score\n",
    "\n",
    "#lasso regression\n",
    "from sklearn import linear_model\n",
    "\n",
    "#f_regression (feature selection)\n",
    "from sklearn.feature_selection import f_regression\n",
    "from sklearn.feature_selection import SelectKBest\n",
    "\n",
    "# recursive feature selection (feature selection)\n",
    "from sklearn.feature_selection import RFE\n",
    "\n",
    "import statsmodels.api as sm\n",
    "from statsmodels.formula.api import ols"
   ]
  },
  {
   "cell_type": "code",
   "execution_count": 473,
   "metadata": {},
   "outputs": [],
   "source": [
    "df['title_year1'] = df['title_year'] - 2000"
   ]
  },
  {
   "cell_type": "code",
   "execution_count": 474,
   "metadata": {},
   "outputs": [
    {
     "data": {
      "text/html": [
       "<div>\n",
       "<style scoped>\n",
       "    .dataframe tbody tr th:only-of-type {\n",
       "        vertical-align: middle;\n",
       "    }\n",
       "\n",
       "    .dataframe tbody tr th {\n",
       "        vertical-align: top;\n",
       "    }\n",
       "\n",
       "    .dataframe thead th {\n",
       "        text-align: right;\n",
       "    }\n",
       "</style>\n",
       "<table border=\"1\" class=\"dataframe\">\n",
       "  <thead>\n",
       "    <tr style=\"text-align: right;\">\n",
       "      <th></th>\n",
       "      <th>color</th>\n",
       "      <th>num_critic_for_reviews</th>\n",
       "      <th>duration</th>\n",
       "      <th>director_facebook_likes</th>\n",
       "      <th>actor_1_facebook_likes</th>\n",
       "      <th>gross</th>\n",
       "      <th>num_voted_users</th>\n",
       "      <th>num_user_for_reviews</th>\n",
       "      <th>content_rating</th>\n",
       "      <th>budget</th>\n",
       "      <th>...</th>\n",
       "      <th>Crime</th>\n",
       "      <th>Drama</th>\n",
       "      <th>Family</th>\n",
       "      <th>Fantasy</th>\n",
       "      <th>Horror</th>\n",
       "      <th>Mystery</th>\n",
       "      <th>Romance</th>\n",
       "      <th>Sci-Fi</th>\n",
       "      <th>Thriller</th>\n",
       "      <th>title_year1</th>\n",
       "    </tr>\n",
       "  </thead>\n",
       "  <tbody>\n",
       "    <tr>\n",
       "      <th>count</th>\n",
       "      <td>4883.000000</td>\n",
       "      <td>4883.000000</td>\n",
       "      <td>4883.000000</td>\n",
       "      <td>4883.000000</td>\n",
       "      <td>4883.000000</td>\n",
       "      <td>4.883000e+03</td>\n",
       "      <td>4.883000e+03</td>\n",
       "      <td>4883.000000</td>\n",
       "      <td>4883.000000</td>\n",
       "      <td>4.883000e+03</td>\n",
       "      <td>...</td>\n",
       "      <td>4883.000000</td>\n",
       "      <td>4883.000000</td>\n",
       "      <td>4883.000000</td>\n",
       "      <td>4883.000000</td>\n",
       "      <td>4883.000000</td>\n",
       "      <td>4883.000000</td>\n",
       "      <td>4883.000000</td>\n",
       "      <td>4883.000000</td>\n",
       "      <td>4883.000000</td>\n",
       "      <td>4883.000000</td>\n",
       "    </tr>\n",
       "    <tr>\n",
       "      <th>mean</th>\n",
       "      <td>0.958222</td>\n",
       "      <td>142.153185</td>\n",
       "      <td>108.192709</td>\n",
       "      <td>690.293877</td>\n",
       "      <td>6671.357977</td>\n",
       "      <td>4.481674e+07</td>\n",
       "      <td>8.478898e+04</td>\n",
       "      <td>275.794593</td>\n",
       "      <td>3.980135</td>\n",
       "      <td>3.493438e+07</td>\n",
       "      <td>...</td>\n",
       "      <td>0.174278</td>\n",
       "      <td>0.510956</td>\n",
       "      <td>0.108949</td>\n",
       "      <td>0.120827</td>\n",
       "      <td>0.112431</td>\n",
       "      <td>0.095843</td>\n",
       "      <td>0.221176</td>\n",
       "      <td>0.121647</td>\n",
       "      <td>0.280156</td>\n",
       "      <td>2.460168</td>\n",
       "    </tr>\n",
       "    <tr>\n",
       "      <th>std</th>\n",
       "      <td>0.200101</td>\n",
       "      <td>121.055111</td>\n",
       "      <td>22.557268</td>\n",
       "      <td>2824.926155</td>\n",
       "      <td>15198.107123</td>\n",
       "      <td>6.298429e+07</td>\n",
       "      <td>1.392749e+05</td>\n",
       "      <td>380.115460</td>\n",
       "      <td>1.208928</td>\n",
       "      <td>7.526290e+07</td>\n",
       "      <td>...</td>\n",
       "      <td>0.379387</td>\n",
       "      <td>0.499931</td>\n",
       "      <td>0.311608</td>\n",
       "      <td>0.325960</td>\n",
       "      <td>0.315928</td>\n",
       "      <td>0.294406</td>\n",
       "      <td>0.415081</td>\n",
       "      <td>0.326911</td>\n",
       "      <td>0.449121</td>\n",
       "      <td>12.481966</td>\n",
       "    </tr>\n",
       "    <tr>\n",
       "      <th>min</th>\n",
       "      <td>0.000000</td>\n",
       "      <td>1.000000</td>\n",
       "      <td>7.000000</td>\n",
       "      <td>0.000000</td>\n",
       "      <td>0.000000</td>\n",
       "      <td>1.620000e+02</td>\n",
       "      <td>5.000000e+00</td>\n",
       "      <td>1.000000</td>\n",
       "      <td>1.000000</td>\n",
       "      <td>2.180000e+02</td>\n",
       "      <td>...</td>\n",
       "      <td>0.000000</td>\n",
       "      <td>0.000000</td>\n",
       "      <td>0.000000</td>\n",
       "      <td>0.000000</td>\n",
       "      <td>0.000000</td>\n",
       "      <td>0.000000</td>\n",
       "      <td>0.000000</td>\n",
       "      <td>0.000000</td>\n",
       "      <td>0.000000</td>\n",
       "      <td>-84.000000</td>\n",
       "    </tr>\n",
       "    <tr>\n",
       "      <th>25%</th>\n",
       "      <td>1.000000</td>\n",
       "      <td>53.000000</td>\n",
       "      <td>94.000000</td>\n",
       "      <td>7.000000</td>\n",
       "      <td>618.000000</td>\n",
       "      <td>8.012936e+06</td>\n",
       "      <td>8.993000e+03</td>\n",
       "      <td>68.000000</td>\n",
       "      <td>3.000000</td>\n",
       "      <td>7.000000e+06</td>\n",
       "      <td>...</td>\n",
       "      <td>0.000000</td>\n",
       "      <td>0.000000</td>\n",
       "      <td>0.000000</td>\n",
       "      <td>0.000000</td>\n",
       "      <td>0.000000</td>\n",
       "      <td>0.000000</td>\n",
       "      <td>0.000000</td>\n",
       "      <td>0.000000</td>\n",
       "      <td>0.000000</td>\n",
       "      <td>-1.000000</td>\n",
       "    </tr>\n",
       "    <tr>\n",
       "      <th>50%</th>\n",
       "      <td>1.000000</td>\n",
       "      <td>111.000000</td>\n",
       "      <td>104.000000</td>\n",
       "      <td>49.000000</td>\n",
       "      <td>991.000000</td>\n",
       "      <td>2.550022e+07</td>\n",
       "      <td>3.498500e+04</td>\n",
       "      <td>159.000000</td>\n",
       "      <td>4.000000</td>\n",
       "      <td>2.000000e+07</td>\n",
       "      <td>...</td>\n",
       "      <td>0.000000</td>\n",
       "      <td>1.000000</td>\n",
       "      <td>0.000000</td>\n",
       "      <td>0.000000</td>\n",
       "      <td>0.000000</td>\n",
       "      <td>0.000000</td>\n",
       "      <td>0.000000</td>\n",
       "      <td>0.000000</td>\n",
       "      <td>0.000000</td>\n",
       "      <td>5.000000</td>\n",
       "    </tr>\n",
       "    <tr>\n",
       "      <th>75%</th>\n",
       "      <td>1.000000</td>\n",
       "      <td>196.000000</td>\n",
       "      <td>118.000000</td>\n",
       "      <td>194.000000</td>\n",
       "      <td>11000.000000</td>\n",
       "      <td>5.253598e+07</td>\n",
       "      <td>9.788800e+04</td>\n",
       "      <td>330.000000</td>\n",
       "      <td>5.000000</td>\n",
       "      <td>4.000000e+07</td>\n",
       "      <td>...</td>\n",
       "      <td>0.000000</td>\n",
       "      <td>1.000000</td>\n",
       "      <td>0.000000</td>\n",
       "      <td>0.000000</td>\n",
       "      <td>0.000000</td>\n",
       "      <td>0.000000</td>\n",
       "      <td>0.000000</td>\n",
       "      <td>0.000000</td>\n",
       "      <td>1.000000</td>\n",
       "      <td>11.000000</td>\n",
       "    </tr>\n",
       "    <tr>\n",
       "      <th>max</th>\n",
       "      <td>1.000000</td>\n",
       "      <td>813.000000</td>\n",
       "      <td>330.000000</td>\n",
       "      <td>23000.000000</td>\n",
       "      <td>640000.000000</td>\n",
       "      <td>7.605058e+08</td>\n",
       "      <td>1.689764e+06</td>\n",
       "      <td>5060.000000</td>\n",
       "      <td>5.000000</td>\n",
       "      <td>2.500000e+09</td>\n",
       "      <td>...</td>\n",
       "      <td>1.000000</td>\n",
       "      <td>1.000000</td>\n",
       "      <td>1.000000</td>\n",
       "      <td>1.000000</td>\n",
       "      <td>1.000000</td>\n",
       "      <td>1.000000</td>\n",
       "      <td>1.000000</td>\n",
       "      <td>1.000000</td>\n",
       "      <td>1.000000</td>\n",
       "      <td>16.000000</td>\n",
       "    </tr>\n",
       "  </tbody>\n",
       "</table>\n",
       "<p>8 rows × 31 columns</p>\n",
       "</div>"
      ],
      "text/plain": [
       "             color  num_critic_for_reviews     duration  \\\n",
       "count  4883.000000             4883.000000  4883.000000   \n",
       "mean      0.958222              142.153185   108.192709   \n",
       "std       0.200101              121.055111    22.557268   \n",
       "min       0.000000                1.000000     7.000000   \n",
       "25%       1.000000               53.000000    94.000000   \n",
       "50%       1.000000              111.000000   104.000000   \n",
       "75%       1.000000              196.000000   118.000000   \n",
       "max       1.000000              813.000000   330.000000   \n",
       "\n",
       "       director_facebook_likes  actor_1_facebook_likes         gross  \\\n",
       "count              4883.000000             4883.000000  4.883000e+03   \n",
       "mean                690.293877             6671.357977  4.481674e+07   \n",
       "std                2824.926155            15198.107123  6.298429e+07   \n",
       "min                   0.000000                0.000000  1.620000e+02   \n",
       "25%                   7.000000              618.000000  8.012936e+06   \n",
       "50%                  49.000000              991.000000  2.550022e+07   \n",
       "75%                 194.000000            11000.000000  5.253598e+07   \n",
       "max               23000.000000           640000.000000  7.605058e+08   \n",
       "\n",
       "       num_voted_users  num_user_for_reviews  content_rating        budget  \\\n",
       "count     4.883000e+03           4883.000000     4883.000000  4.883000e+03   \n",
       "mean      8.478898e+04            275.794593        3.980135  3.493438e+07   \n",
       "std       1.392749e+05            380.115460        1.208928  7.526290e+07   \n",
       "min       5.000000e+00              1.000000        1.000000  2.180000e+02   \n",
       "25%       8.993000e+03             68.000000        3.000000  7.000000e+06   \n",
       "50%       3.498500e+04            159.000000        4.000000  2.000000e+07   \n",
       "75%       9.788800e+04            330.000000        5.000000  4.000000e+07   \n",
       "max       1.689764e+06           5060.000000        5.000000  2.500000e+09   \n",
       "\n",
       "          ...             Crime        Drama       Family      Fantasy  \\\n",
       "count     ...       4883.000000  4883.000000  4883.000000  4883.000000   \n",
       "mean      ...          0.174278     0.510956     0.108949     0.120827   \n",
       "std       ...          0.379387     0.499931     0.311608     0.325960   \n",
       "min       ...          0.000000     0.000000     0.000000     0.000000   \n",
       "25%       ...          0.000000     0.000000     0.000000     0.000000   \n",
       "50%       ...          0.000000     1.000000     0.000000     0.000000   \n",
       "75%       ...          0.000000     1.000000     0.000000     0.000000   \n",
       "max       ...          1.000000     1.000000     1.000000     1.000000   \n",
       "\n",
       "            Horror      Mystery      Romance       Sci-Fi     Thriller  \\\n",
       "count  4883.000000  4883.000000  4883.000000  4883.000000  4883.000000   \n",
       "mean      0.112431     0.095843     0.221176     0.121647     0.280156   \n",
       "std       0.315928     0.294406     0.415081     0.326911     0.449121   \n",
       "min       0.000000     0.000000     0.000000     0.000000     0.000000   \n",
       "25%       0.000000     0.000000     0.000000     0.000000     0.000000   \n",
       "50%       0.000000     0.000000     0.000000     0.000000     0.000000   \n",
       "75%       0.000000     0.000000     0.000000     0.000000     1.000000   \n",
       "max       1.000000     1.000000     1.000000     1.000000     1.000000   \n",
       "\n",
       "       title_year1  \n",
       "count  4883.000000  \n",
       "mean      2.460168  \n",
       "std      12.481966  \n",
       "min     -84.000000  \n",
       "25%      -1.000000  \n",
       "50%       5.000000  \n",
       "75%      11.000000  \n",
       "max      16.000000  \n",
       "\n",
       "[8 rows x 31 columns]"
      ]
     },
     "execution_count": 474,
     "metadata": {},
     "output_type": "execute_result"
    }
   ],
   "source": [
    "df.describe()"
   ]
  },
  {
   "cell_type": "code",
   "execution_count": 475,
   "metadata": {},
   "outputs": [],
   "source": [
    "#First we will run a regression model with top 4 correlated variables\n",
    "y = df['imdb_score']\n",
    "X = df[['num_user_for_reviews', 'duration', 'num_critic_for_reviews', 'num_voted_users']]"
   ]
  },
  {
   "cell_type": "code",
   "execution_count": 476,
   "metadata": {},
   "outputs": [],
   "source": [
    "#Create regression model\n",
    "model1 = lm.LinearRegression()\n",
    "model1.fit(X, y)   \n",
    "model1_y = model1.predict(X)"
   ]
  },
  {
   "cell_type": "code",
   "execution_count": 477,
   "metadata": {},
   "outputs": [
    {
     "name": "stdout",
     "output_type": "stream",
     "text": [
      "y-intercept  4.86530805803252\n"
     ]
    },
    {
     "data": {
      "text/html": [
       "<div>\n",
       "<style scoped>\n",
       "    .dataframe tbody tr th:only-of-type {\n",
       "        vertical-align: middle;\n",
       "    }\n",
       "\n",
       "    .dataframe tbody tr th {\n",
       "        vertical-align: top;\n",
       "    }\n",
       "\n",
       "    .dataframe thead th {\n",
       "        text-align: right;\n",
       "    }\n",
       "</style>\n",
       "<table border=\"1\" class=\"dataframe\">\n",
       "  <thead>\n",
       "    <tr style=\"text-align: right;\">\n",
       "      <th></th>\n",
       "      <th>0</th>\n",
       "      <th>1</th>\n",
       "    </tr>\n",
       "  </thead>\n",
       "  <tbody>\n",
       "    <tr>\n",
       "      <th>0</th>\n",
       "      <td>num_user_for_reviews</td>\n",
       "      <td>-0.000538</td>\n",
       "    </tr>\n",
       "    <tr>\n",
       "      <th>1</th>\n",
       "      <td>duration</td>\n",
       "      <td>0.011573</td>\n",
       "    </tr>\n",
       "    <tr>\n",
       "      <th>2</th>\n",
       "      <td>num_critic_for_reviews</td>\n",
       "      <td>0.001159</td>\n",
       "    </tr>\n",
       "    <tr>\n",
       "      <th>3</th>\n",
       "      <td>num_voted_users</td>\n",
       "      <td>0.000003</td>\n",
       "    </tr>\n",
       "  </tbody>\n",
       "</table>\n",
       "</div>"
      ],
      "text/plain": [
       "                        0         1\n",
       "0    num_user_for_reviews -0.000538\n",
       "1                duration  0.011573\n",
       "2  num_critic_for_reviews  0.001159\n",
       "3         num_voted_users  0.000003"
      ]
     },
     "execution_count": 477,
     "metadata": {},
     "output_type": "execute_result"
    }
   ],
   "source": [
    "#Check intercept and coefficients\n",
    "print \"y-intercept \", model1.intercept_\n",
    "pd.DataFrame(zip(X.columns, np.transpose(model1.coef_)))"
   ]
  },
  {
   "cell_type": "code",
   "execution_count": 478,
   "metadata": {},
   "outputs": [
    {
     "name": "stdout",
     "output_type": "stream",
     "text": [
      "mean square error:  0.936702391958306\n",
      "variance or r-squared:  0.24433451401509443\n"
     ]
    }
   ],
   "source": [
    "# 24.4% of variation is explained by the model\n",
    "print \"mean square error: \", mean_squared_error(y, model1_y)\n",
    "print \"variance or r-squared: \", explained_variance_score(y, model1_y)"
   ]
  },
  {
   "cell_type": "markdown",
   "metadata": {},
   "source": [
    "This model is not the best.  Coefficients are very close to 0, and the model only explains 24.4% of variation."
   ]
  },
  {
   "cell_type": "code",
   "execution_count": 479,
   "metadata": {},
   "outputs": [],
   "source": [
    "#Run lasso regression to penalize for extra variables, check entire dataset\n",
    "X = df[['color', 'num_critic_for_reviews', 'duration', 'director_facebook_likes', 'actor_1_facebook_likes', \n",
    "        'gross', 'num_voted_users', 'num_user_for_reviews', 'budget', 'title_year1', 'movie_facebook_likes', \n",
    "        'content_rating_1', 'content_rating_2', 'content_rating_3', 'content_rating_4', 'content_rating_5', \n",
    "        'Action', 'Adventure', 'Comedy', 'Crime', 'Drama', 'Family', 'Fantasy', 'Horror', 'Mystery', 'Romance', \n",
    "        'Sci-Fi', 'Thriller']]\n",
    "model1 = linear_model.Lasso(alpha=1)             \n",
    "model1.fit(X, y)\n",
    "model1_y = model1.predict(X)"
   ]
  },
  {
   "cell_type": "code",
   "execution_count": 480,
   "metadata": {},
   "outputs": [
    {
     "name": "stdout",
     "output_type": "stream",
     "text": [
      "y-intercept  5.213858621723807\n"
     ]
    },
    {
     "data": {
      "text/html": [
       "<div>\n",
       "<style scoped>\n",
       "    .dataframe tbody tr th:only-of-type {\n",
       "        vertical-align: middle;\n",
       "    }\n",
       "\n",
       "    .dataframe tbody tr th {\n",
       "        vertical-align: top;\n",
       "    }\n",
       "\n",
       "    .dataframe thead th {\n",
       "        text-align: right;\n",
       "    }\n",
       "</style>\n",
       "<table border=\"1\" class=\"dataframe\">\n",
       "  <thead>\n",
       "    <tr style=\"text-align: right;\">\n",
       "      <th></th>\n",
       "      <th>0</th>\n",
       "      <th>1</th>\n",
       "    </tr>\n",
       "  </thead>\n",
       "  <tbody>\n",
       "    <tr>\n",
       "      <th>0</th>\n",
       "      <td>color</td>\n",
       "      <td>-0.000000e+00</td>\n",
       "    </tr>\n",
       "    <tr>\n",
       "      <th>1</th>\n",
       "      <td>num_critic_for_reviews</td>\n",
       "      <td>2.148245e-03</td>\n",
       "    </tr>\n",
       "    <tr>\n",
       "      <th>2</th>\n",
       "      <td>duration</td>\n",
       "      <td>8.242392e-03</td>\n",
       "    </tr>\n",
       "    <tr>\n",
       "      <th>3</th>\n",
       "      <td>director_facebook_likes</td>\n",
       "      <td>5.104653e-06</td>\n",
       "    </tr>\n",
       "    <tr>\n",
       "      <th>4</th>\n",
       "      <td>actor_1_facebook_likes</td>\n",
       "      <td>3.293898e-07</td>\n",
       "    </tr>\n",
       "    <tr>\n",
       "      <th>5</th>\n",
       "      <td>gross</td>\n",
       "      <td>-2.586599e-09</td>\n",
       "    </tr>\n",
       "    <tr>\n",
       "      <th>6</th>\n",
       "      <td>num_voted_users</td>\n",
       "      <td>3.806334e-06</td>\n",
       "    </tr>\n",
       "    <tr>\n",
       "      <th>7</th>\n",
       "      <td>num_user_for_reviews</td>\n",
       "      <td>-5.012027e-04</td>\n",
       "    </tr>\n",
       "    <tr>\n",
       "      <th>8</th>\n",
       "      <td>budget</td>\n",
       "      <td>-5.775077e-10</td>\n",
       "    </tr>\n",
       "    <tr>\n",
       "      <th>9</th>\n",
       "      <td>title_year1</td>\n",
       "      <td>-1.473684e-02</td>\n",
       "    </tr>\n",
       "    <tr>\n",
       "      <th>10</th>\n",
       "      <td>movie_facebook_likes</td>\n",
       "      <td>-1.722106e-06</td>\n",
       "    </tr>\n",
       "    <tr>\n",
       "      <th>11</th>\n",
       "      <td>content_rating_1</td>\n",
       "      <td>0.000000e+00</td>\n",
       "    </tr>\n",
       "    <tr>\n",
       "      <th>12</th>\n",
       "      <td>content_rating_2</td>\n",
       "      <td>0.000000e+00</td>\n",
       "    </tr>\n",
       "    <tr>\n",
       "      <th>13</th>\n",
       "      <td>content_rating_3</td>\n",
       "      <td>0.000000e+00</td>\n",
       "    </tr>\n",
       "    <tr>\n",
       "      <th>14</th>\n",
       "      <td>content_rating_4</td>\n",
       "      <td>-0.000000e+00</td>\n",
       "    </tr>\n",
       "    <tr>\n",
       "      <th>15</th>\n",
       "      <td>content_rating_5</td>\n",
       "      <td>0.000000e+00</td>\n",
       "    </tr>\n",
       "    <tr>\n",
       "      <th>16</th>\n",
       "      <td>Action</td>\n",
       "      <td>-0.000000e+00</td>\n",
       "    </tr>\n",
       "    <tr>\n",
       "      <th>17</th>\n",
       "      <td>Adventure</td>\n",
       "      <td>-0.000000e+00</td>\n",
       "    </tr>\n",
       "    <tr>\n",
       "      <th>18</th>\n",
       "      <td>Comedy</td>\n",
       "      <td>-0.000000e+00</td>\n",
       "    </tr>\n",
       "    <tr>\n",
       "      <th>19</th>\n",
       "      <td>Crime</td>\n",
       "      <td>0.000000e+00</td>\n",
       "    </tr>\n",
       "    <tr>\n",
       "      <th>20</th>\n",
       "      <td>Drama</td>\n",
       "      <td>0.000000e+00</td>\n",
       "    </tr>\n",
       "    <tr>\n",
       "      <th>21</th>\n",
       "      <td>Family</td>\n",
       "      <td>0.000000e+00</td>\n",
       "    </tr>\n",
       "    <tr>\n",
       "      <th>22</th>\n",
       "      <td>Fantasy</td>\n",
       "      <td>-0.000000e+00</td>\n",
       "    </tr>\n",
       "    <tr>\n",
       "      <th>23</th>\n",
       "      <td>Horror</td>\n",
       "      <td>-0.000000e+00</td>\n",
       "    </tr>\n",
       "    <tr>\n",
       "      <th>24</th>\n",
       "      <td>Mystery</td>\n",
       "      <td>-0.000000e+00</td>\n",
       "    </tr>\n",
       "    <tr>\n",
       "      <th>25</th>\n",
       "      <td>Romance</td>\n",
       "      <td>0.000000e+00</td>\n",
       "    </tr>\n",
       "    <tr>\n",
       "      <th>26</th>\n",
       "      <td>Sci-Fi</td>\n",
       "      <td>-0.000000e+00</td>\n",
       "    </tr>\n",
       "    <tr>\n",
       "      <th>27</th>\n",
       "      <td>Thriller</td>\n",
       "      <td>-0.000000e+00</td>\n",
       "    </tr>\n",
       "  </tbody>\n",
       "</table>\n",
       "</div>"
      ],
      "text/plain": [
       "                          0             1\n",
       "0                     color -0.000000e+00\n",
       "1    num_critic_for_reviews  2.148245e-03\n",
       "2                  duration  8.242392e-03\n",
       "3   director_facebook_likes  5.104653e-06\n",
       "4    actor_1_facebook_likes  3.293898e-07\n",
       "5                     gross -2.586599e-09\n",
       "6           num_voted_users  3.806334e-06\n",
       "7      num_user_for_reviews -5.012027e-04\n",
       "8                    budget -5.775077e-10\n",
       "9               title_year1 -1.473684e-02\n",
       "10     movie_facebook_likes -1.722106e-06\n",
       "11         content_rating_1  0.000000e+00\n",
       "12         content_rating_2  0.000000e+00\n",
       "13         content_rating_3  0.000000e+00\n",
       "14         content_rating_4 -0.000000e+00\n",
       "15         content_rating_5  0.000000e+00\n",
       "16                   Action -0.000000e+00\n",
       "17                Adventure -0.000000e+00\n",
       "18                   Comedy -0.000000e+00\n",
       "19                    Crime  0.000000e+00\n",
       "20                    Drama  0.000000e+00\n",
       "21                   Family  0.000000e+00\n",
       "22                  Fantasy -0.000000e+00\n",
       "23                   Horror -0.000000e+00\n",
       "24                  Mystery -0.000000e+00\n",
       "25                  Romance  0.000000e+00\n",
       "26                   Sci-Fi -0.000000e+00\n",
       "27                 Thriller -0.000000e+00"
      ]
     },
     "execution_count": 480,
     "metadata": {},
     "output_type": "execute_result"
    }
   ],
   "source": [
    "print \"y-intercept \", model1.intercept_\n",
    "pd.DataFrame(zip(X.columns, np.transpose(model1.coef_)))"
   ]
  },
  {
   "cell_type": "markdown",
   "metadata": {},
   "source": [
    "Here are the results from lasso regression.  All the binary columns have 0 coefficients.  Title year, number of critic reviews, duration, number of user reviews and number of user votes have the largest coefficients."
   ]
  },
  {
   "cell_type": "code",
   "execution_count": 481,
   "metadata": {
    "scrolled": true
   },
   "outputs": [
    {
     "name": "stdout",
     "output_type": "stream",
     "text": [
      "mean square error:  0.8583571133189194\n",
      "variance or r-squared:  0.30753796429547986\n"
     ]
    }
   ],
   "source": [
    "#Show MSE and R^2\n",
    "print \"mean square error: \", mean_squared_error(y, model1_y)\n",
    "print \"variance or r-squared: \", explained_variance_score(y, model1_y)"
   ]
  },
  {
   "cell_type": "markdown",
   "metadata": {},
   "source": [
    "R^2 value is still pretty small, even with all the variables in the dataset."
   ]
  },
  {
   "cell_type": "code",
   "execution_count": 482,
   "metadata": {},
   "outputs": [
    {
     "name": "stdout",
     "output_type": "stream",
     "text": [
      "                            OLS Regression Results                            \n",
      "==============================================================================\n",
      "Dep. Variable:             imdb_score   R-squared:                       0.283\n",
      "Model:                            OLS   Adj. R-squared:                  0.282\n",
      "Method:                 Least Squares   F-statistic:                     481.4\n",
      "Date:                Wed, 05 Dec 2018   Prob (F-statistic):               0.00\n",
      "Time:                        16:23:40   Log-Likelihood:                -6640.7\n",
      "No. Observations:                4883   AIC:                         1.329e+04\n",
      "Df Residuals:                    4878   BIC:                         1.332e+04\n",
      "Df Model:                           4                                         \n",
      "Covariance Type:            nonrobust                                         \n",
      "==========================================================================================\n",
      "                             coef    std err          t      P>|t|      [0.025      0.975]\n",
      "------------------------------------------------------------------------------------------\n",
      "Intercept                  5.0983      0.069     73.689      0.000       4.963       5.234\n",
      "duration                   0.0087      0.001     13.390      0.000       0.007       0.010\n",
      "title_year1               -0.0216      0.001    -18.457      0.000      -0.024      -0.019\n",
      "num_critic_for_reviews     0.0019      0.000     12.301      0.000       0.002       0.002\n",
      "num_voted_users          1.94e-06    1.3e-07     14.943      0.000    1.69e-06    2.19e-06\n",
      "==============================================================================\n",
      "Omnibus:                      527.494   Durbin-Watson:                   1.875\n",
      "Prob(Omnibus):                  0.000   Jarque-Bera (JB):              923.597\n",
      "Skew:                          -0.739   Prob(JB):                    2.78e-201\n",
      "Kurtosis:                       4.535   Cond. No.                     8.36e+05\n",
      "==============================================================================\n",
      "\n",
      "Warnings:\n",
      "[1] Standard Errors assume that the covariance matrix of the errors is correctly specified.\n",
      "[2] The condition number is large, 8.36e+05. This might indicate that there are\n",
      "strong multicollinearity or other numerical problems.\n"
     ]
    }
   ],
   "source": [
    "#Choose only variables with largest coeffients \n",
    "runs_reg_model = ols(\"imdb_score~duration+title_year1+num_critic_for_reviews+num_voted_users\",df)\n",
    "runs_reg = runs_reg_model.fit()\n",
    "print runs_reg.summary()"
   ]
  },
  {
   "cell_type": "markdown",
   "metadata": {},
   "source": [
    "This is our best regression model.  With number of critic reviews, duration, title year, and number of user votes R squared is comparable to the full model and all coefficients are significant."
   ]
  },
  {
   "cell_type": "code",
   "execution_count": 483,
   "metadata": {},
   "outputs": [],
   "source": [
    "#Now we can build a classification model\n",
    "\n",
    "#import decisiontreeclassifier\n",
    "from sklearn import tree\n",
    "from sklearn.tree import DecisionTreeClassifier\n",
    "#import logisticregression classifier\n",
    "from sklearn.linear_model import LogisticRegression\n",
    "import statsmodels.api as sm\n",
    "#import knn classifier\n",
    "from sklearn.neighbors import KNeighborsClassifier\n",
    "\n",
    "#for validating your classification model\n",
    "from sklearn.metrics import classification_report, f1_score, accuracy_score, confusion_matrix\n",
    "from sklearn.model_selection import StratifiedKFold, cross_val_score, train_test_split, GridSearchCV \n",
    "from sklearn import metrics\n",
    "from sklearn.metrics import roc_curve, auc\n",
    "\n",
    "# feature selection\n",
    "from sklearn.feature_selection import RFE\n",
    "from sklearn.ensemble import ExtraTreesClassifier\n",
    "from sklearn.feature_selection import SelectKBest\n",
    "from sklearn.feature_selection import chi2\n",
    "\n",
    "#pip install scikit-plot (optional)\n",
    "import scikitplot as skplt\n",
    "\n",
    "#stats testing\n",
    "import scipy.stats as stats\n",
    "\n",
    "#Random Forest ensembel\n",
    "from sklearn.ensemble import RandomForestClassifier"
   ]
  },
  {
   "cell_type": "code",
   "execution_count": 484,
   "metadata": {},
   "outputs": [],
   "source": [
    "# declare X variables and y variable\n",
    "y = df['score_cat']\n",
    "X = df.drop(['imdb_score', 'director_name', 'genres', 'actor_1_name', 'movie_title', \n",
    "             'content_rating', 'critic_cat', 'score_cat', 'title_year1'], axis=1)\n",
    "X_train, X_test, y_train, y_test = train_test_split(X, y, test_size=0.3, random_state=0)\n"
   ]
  },
  {
   "cell_type": "code",
   "execution_count": 485,
   "metadata": {},
   "outputs": [
    {
     "data": {
      "text/plain": [
       "0.7501706484641638"
      ]
     },
     "execution_count": 485,
     "metadata": {},
     "output_type": "execute_result"
    }
   ],
   "source": [
    "#Now run random forest classifier for Feature selection\n",
    "clf = RandomForestClassifier(n_estimators=20)    \n",
    "clf=clf.fit(X_train, y_train)\n",
    "clf.score(X_test, y_test)"
   ]
  },
  {
   "cell_type": "code",
   "execution_count": 486,
   "metadata": {},
   "outputs": [
    {
     "data": {
      "text/html": [
       "<div>\n",
       "<style scoped>\n",
       "    .dataframe tbody tr th:only-of-type {\n",
       "        vertical-align: middle;\n",
       "    }\n",
       "\n",
       "    .dataframe tbody tr th {\n",
       "        vertical-align: top;\n",
       "    }\n",
       "\n",
       "    .dataframe thead th {\n",
       "        text-align: right;\n",
       "    }\n",
       "</style>\n",
       "<table border=\"1\" class=\"dataframe\">\n",
       "  <thead>\n",
       "    <tr style=\"text-align: right;\">\n",
       "      <th></th>\n",
       "      <th>feature</th>\n",
       "      <th>importance</th>\n",
       "    </tr>\n",
       "  </thead>\n",
       "  <tbody>\n",
       "    <tr>\n",
       "      <th>6</th>\n",
       "      <td>num_voted_users</td>\n",
       "      <td>0.133424</td>\n",
       "    </tr>\n",
       "    <tr>\n",
       "      <th>2</th>\n",
       "      <td>duration</td>\n",
       "      <td>0.094169</td>\n",
       "    </tr>\n",
       "    <tr>\n",
       "      <th>1</th>\n",
       "      <td>num_critic_for_reviews</td>\n",
       "      <td>0.084988</td>\n",
       "    </tr>\n",
       "    <tr>\n",
       "      <th>7</th>\n",
       "      <td>num_user_for_reviews</td>\n",
       "      <td>0.083937</td>\n",
       "    </tr>\n",
       "    <tr>\n",
       "      <th>8</th>\n",
       "      <td>budget</td>\n",
       "      <td>0.078917</td>\n",
       "    </tr>\n",
       "    <tr>\n",
       "      <th>9</th>\n",
       "      <td>title_year</td>\n",
       "      <td>0.075696</td>\n",
       "    </tr>\n",
       "    <tr>\n",
       "      <th>5</th>\n",
       "      <td>gross</td>\n",
       "      <td>0.072595</td>\n",
       "    </tr>\n",
       "    <tr>\n",
       "      <th>4</th>\n",
       "      <td>actor_1_facebook_likes</td>\n",
       "      <td>0.070333</td>\n",
       "    </tr>\n",
       "    <tr>\n",
       "      <th>3</th>\n",
       "      <td>director_facebook_likes</td>\n",
       "      <td>0.061834</td>\n",
       "    </tr>\n",
       "    <tr>\n",
       "      <th>10</th>\n",
       "      <td>movie_facebook_likes</td>\n",
       "      <td>0.061025</td>\n",
       "    </tr>\n",
       "  </tbody>\n",
       "</table>\n",
       "</div>"
      ],
      "text/plain": [
       "                    feature  importance\n",
       "6           num_voted_users    0.133424\n",
       "2                  duration    0.094169\n",
       "1    num_critic_for_reviews    0.084988\n",
       "7      num_user_for_reviews    0.083937\n",
       "8                    budget    0.078917\n",
       "9                title_year    0.075696\n",
       "5                     gross    0.072595\n",
       "4    actor_1_facebook_likes    0.070333\n",
       "3   director_facebook_likes    0.061834\n",
       "10     movie_facebook_likes    0.061025"
      ]
     },
     "execution_count": 486,
     "metadata": {},
     "output_type": "execute_result"
    }
   ],
   "source": [
    "#Check variable importance for cluster analysis\n",
    "pd.DataFrame({'feature':X.columns, 'importance':clf.feature_importances_}).sort_values('importance', ascending=False).head(10)"
   ]
  },
  {
   "cell_type": "markdown",
   "metadata": {},
   "source": [
    "Here are the 10 most important variables for cluster analysis."
   ]
  },
  {
   "cell_type": "code",
   "execution_count": 487,
   "metadata": {},
   "outputs": [
    {
     "name": "stdout",
     "output_type": "stream",
     "text": [
      "Features sorted by their rank:\n",
      "[(0.0034, 'content_rating_2'), (0.0075, u'color'), (0.009, 'content_rating_1'), (0.0096, 'content_rating_3'), (0.0101, u'Family'), (0.0114, u'Mystery'), (0.013, 'content_rating_5'), (0.0133, u'Sci-Fi'), (0.0138, 'content_rating_4'), (0.0155, u'Fantasy'), (0.0156, u'Adventure'), (0.0159, u'Crime'), (0.019, u'Action'), (0.0194, u'Romance'), (0.0206, u'Comedy'), (0.0229, u'Thriller'), (0.0256, u'Horror'), (0.042, u'Drama'), (0.0559, u'actor_1_facebook_likes'), (0.0564, u'director_facebook_likes'), (0.0603, u'gross'), (0.0608, u'movie_facebook_likes'), (0.0633, u'duration'), (0.0694, u'budget'), (0.07, u'num_user_for_reviews'), (0.075, u'title_year'), (0.0805, u'num_critic_for_reviews'), (0.121, u'num_voted_users')]\n"
     ]
    }
   ],
   "source": [
    "# Use extra trees classifier to select the most important columns\n",
    "model_extra = ExtraTreesClassifier()\n",
    "model_extra.fit(X, y)\n",
    "\n",
    "print \"Features sorted by their rank:\"\n",
    "print sorted(zip(map(lambda x: round(x, 4), model_extra.feature_importances_), X.columns))"
   ]
  },
  {
   "cell_type": "markdown",
   "metadata": {},
   "source": [
    "Extra Tees Classifier selects number of user votes, number of user reviews, number of critic reviews, title year, and budget as the top 5 most important variables"
   ]
  },
  {
   "cell_type": "code",
   "execution_count": 488,
   "metadata": {},
   "outputs": [
    {
     "name": "stdout",
     "output_type": "stream",
     "text": [
      "[ 3  5  6  8 10]\n"
     ]
    }
   ],
   "source": [
    "#Use select K best to find the 5 best columns to use:\n",
    "X_select = SelectKBest(chi2, k=5).fit_transform(X, y)\n",
    "selector = SelectKBest(chi2, k=5).fit(X, y)\n",
    "idxs_selected = selector.get_support(indices=True)\n",
    "print idxs_selected"
   ]
  },
  {
   "cell_type": "markdown",
   "metadata": {},
   "source": [
    "Select best K selects director facebook likes, gross, number of user votes, budget, and movie facebook likes as best columns."
   ]
  },
  {
   "cell_type": "code",
   "execution_count": 489,
   "metadata": {},
   "outputs": [
    {
     "data": {
      "text/plain": [
       "0.7071672354948806"
      ]
     },
     "execution_count": 489,
     "metadata": {},
     "output_type": "execute_result"
    }
   ],
   "source": [
    "#Choose the 5 best variables from feature selection\n",
    "X_etc = df[['num_voted_users', 'num_user_for_reviews', 'num_critic_for_reviews', 'budget', 'duration']]\n",
    "X_train, X_test, y_train, y_test = train_test_split(X_etc, y, test_size=0.3, random_state=1)\n",
    "\n",
    "#Now run random forest classifier with these 5\n",
    "clf1 = RandomForestClassifier(n_estimators=20)    \n",
    "clf1=clf1.fit(X_train, y_train)"
   ]
  },
  {
   "cell_type": "code",
   "execution_count": 510,
   "metadata": {},
   "outputs": [
    {
     "name": "stdout",
     "output_type": "stream",
     "text": [
      "0.7071672354948806\n",
      "[[  2   0  20  23]\n",
      " [  0  42  34   0]\n",
      " [  3   9 810 136]\n",
      " [  6   0 198 182]]\n",
      "             precision    recall  f1-score   support\n",
      "\n",
      "        bad       0.18      0.04      0.07        45\n",
      "  excellent       0.82      0.55      0.66        76\n",
      "       good       0.76      0.85      0.80       958\n",
      "         ok       0.53      0.47      0.50       386\n",
      "\n",
      "avg / total       0.69      0.71      0.69      1465\n",
      "\n"
     ]
    }
   ],
   "source": [
    "# Model evaluation\n",
    "print metrics.accuracy_score(y_test, clf1.predict(X_test))\n",
    "print metrics.confusion_matrix(y_test, clf1.predict(X_test)) \n",
    "print metrics.classification_report(y_test, clf1.predict(X_test))"
   ]
  },
  {
   "cell_type": "markdown",
   "metadata": {},
   "source": [
    "The random forest classifier has a solid accuracy score of 70.7%."
   ]
  },
  {
   "cell_type": "code",
   "execution_count": 490,
   "metadata": {},
   "outputs": [
    {
     "data": {
      "text/plain": [
       "DecisionTreeClassifier(class_weight=None, criterion='gini', max_depth=3,\n",
       "            max_features=None, max_leaf_nodes=None,\n",
       "            min_impurity_decrease=0.0, min_impurity_split=None,\n",
       "            min_samples_leaf=5, min_samples_split=2,\n",
       "            min_weight_fraction_leaf=0.0, presort=False, random_state=None,\n",
       "            splitter='best')"
      ]
     },
     "execution_count": 490,
     "metadata": {},
     "output_type": "execute_result"
    }
   ],
   "source": [
    "# Initialize DecisionTreeClassifier()\n",
    "dt = DecisionTreeClassifier(max_depth=3, min_samples_leaf=5)\n",
    "\n",
    "# Train a decision tree model\n",
    "dt.fit(X_train, y_train)"
   ]
  },
  {
   "cell_type": "code",
   "execution_count": 491,
   "metadata": {},
   "outputs": [
    {
     "name": "stdout",
     "output_type": "stream",
     "text": [
      "0.6976109215017064\n",
      "[[  0   0  36   9]\n",
      " [  0  31  45   0]\n",
      " [  0   6 906  46]\n",
      " [  0   0 301  85]]\n",
      "             precision    recall  f1-score   support\n",
      "\n",
      "        bad       0.00      0.00      0.00        45\n",
      "  excellent       0.84      0.41      0.55        76\n",
      "       good       0.70      0.95      0.81       958\n",
      "         ok       0.61      0.22      0.32       386\n",
      "\n",
      "avg / total       0.66      0.70      0.64      1465\n",
      "\n"
     ]
    },
    {
     "name": "stderr",
     "output_type": "stream",
     "text": [
      "C:\\Users\\aliso\\Anaconda2\\lib\\site-packages\\sklearn\\metrics\\classification.py:1135: UndefinedMetricWarning: Precision and F-score are ill-defined and being set to 0.0 in labels with no predicted samples.\n",
      "  'precision', 'predicted', average, warn_for)\n"
     ]
    }
   ],
   "source": [
    "# Model evaluation\n",
    "print metrics.accuracy_score(y_test, dt.predict(X_test))\n",
    "print metrics.confusion_matrix(y_test, dt.predict(X_test)) \n",
    "print metrics.classification_report(y_test, dt.predict(X_test))"
   ]
  },
  {
   "cell_type": "markdown",
   "metadata": {},
   "source": [
    "This model does an ok job predicting movie score category with a accuracy score of 69.7%.  This model did a poor job of predicting bad movies, and a good job of predicting excellent movies."
   ]
  },
  {
   "cell_type": "code",
   "execution_count": 492,
   "metadata": {},
   "outputs": [],
   "source": [
    "tree.export_graphviz(dt, out_file='data/hrtree1.dot', feature_names=X_etc.columns)"
   ]
  },
  {
   "cell_type": "code",
   "execution_count": 493,
   "metadata": {},
   "outputs": [
    {
     "data": {
      "image/png": "[encoded data removed]",
      "text/plain": [
       "<IPython.core.display.Image object>"
      ]
     },
     "execution_count": 493,
     "metadata": {},
     "output_type": "execute_result"
    }
   ],
   "source": [
    "from IPython.display import Image\n",
    "Image(\"data/hrtree1.png\")"
   ]
  },
  {
   "cell_type": "markdown",
   "metadata": {},
   "source": [
    "Duration and number of users voted seem to be the most important in the decision tree."
   ]
  },
  {
   "cell_type": "code",
   "execution_count": 494,
   "metadata": {},
   "outputs": [
    {
     "data": {
      "text/plain": [
       "KNeighborsClassifier(algorithm='auto', leaf_size=30, metric='minkowski',\n",
       "           metric_params=None, n_jobs=1, n_neighbors=5, p=2,\n",
       "           weights='uniform')"
      ]
     },
     "execution_count": 494,
     "metadata": {},
     "output_type": "execute_result"
    }
   ],
   "source": [
    "# initialize KNeighborsClassifier() and train a KNN Model\n",
    "knn = KNeighborsClassifier()\n",
    "knn.fit(X_train, y_train)"
   ]
  },
  {
   "cell_type": "code",
   "execution_count": 495,
   "metadata": {},
   "outputs": [
    {
     "name": "stdout",
     "output_type": "stream",
     "text": [
      "0.6122866894197952\n",
      "[[  1   0  26  18]\n",
      " [  0   9  61   6]\n",
      " [ 10   6 754 188]\n",
      " [ 13   1 239 133]]\n",
      "             precision    recall  f1-score   support\n",
      "\n",
      "        bad       0.04      0.02      0.03        45\n",
      "  excellent       0.56      0.12      0.20        76\n",
      "       good       0.70      0.79      0.74       958\n",
      "         ok       0.39      0.34      0.36       386\n",
      "\n",
      "avg / total       0.59      0.61      0.59      1465\n",
      "\n"
     ]
    }
   ],
   "source": [
    "# Model evaluation\n",
    "print metrics.accuracy_score(y_test, knn.predict(X_test))\n",
    "print metrics.confusion_matrix(y_test, knn.predict(X_test))\n",
    "print metrics.classification_report(y_test, knn.predict(X_test))"
   ]
  },
  {
   "cell_type": "markdown",
   "metadata": {},
   "source": [
    "The Knn model is slightly worse at predicting movies scores, with an accuracy score of 61.2%.  This model did best at predicting good movies."
   ]
  },
  {
   "cell_type": "code",
   "execution_count": 496,
   "metadata": {},
   "outputs": [
    {
     "name": "stdout",
     "output_type": "stream",
     "text": [
      "[0.6877551  0.70204082 0.7122449  0.7402863  0.69262295 0.66188525\n",
      " 0.63729508 0.62422998 0.59958932 0.52057613]\n",
      "0.6578525827118853\n"
     ]
    }
   ],
   "source": [
    "# evaluate the random forest model using 10-fold cross-validation\n",
    "scores = cross_val_score(clf1, X_etc, y, scoring='accuracy', cv=10)\n",
    "print scores\n",
    "print scores.mean()"
   ]
  },
  {
   "cell_type": "markdown",
   "metadata": {},
   "source": [
    "The cross validation score of 65.8% give use confidence that this is our best classification model."
   ]
  },
  {
   "cell_type": "code",
   "execution_count": 497,
   "metadata": {},
   "outputs": [],
   "source": [
    "#Now we switch to cluster analysis\n",
    "\n",
    "#Import packages\n",
    "from sklearn import tree\n",
    "from sklearn.cluster import KMeans\n",
    "\n",
    "from sklearn.cluster import AgglomerativeClustering\n",
    "from sklearn.metrics import pairwise_distances"
   ]
  },
  {
   "cell_type": "code",
   "execution_count": 498,
   "metadata": {},
   "outputs": [
    {
     "data": {
      "text/html": [
       "<div>\n",
       "<style scoped>\n",
       "    .dataframe tbody tr th:only-of-type {\n",
       "        vertical-align: middle;\n",
       "    }\n",
       "\n",
       "    .dataframe tbody tr th {\n",
       "        vertical-align: top;\n",
       "    }\n",
       "\n",
       "    .dataframe thead th {\n",
       "        text-align: right;\n",
       "    }\n",
       "</style>\n",
       "<table border=\"1\" class=\"dataframe\">\n",
       "  <thead>\n",
       "    <tr style=\"text-align: right;\">\n",
       "      <th></th>\n",
       "      <th>color</th>\n",
       "      <th>num_critic_for_reviews</th>\n",
       "      <th>duration</th>\n",
       "      <th>director_facebook_likes</th>\n",
       "      <th>actor_1_facebook_likes</th>\n",
       "      <th>gross</th>\n",
       "      <th>num_voted_users</th>\n",
       "      <th>num_user_for_reviews</th>\n",
       "      <th>budget</th>\n",
       "      <th>title_year</th>\n",
       "      <th>...</th>\n",
       "      <th>Comedy</th>\n",
       "      <th>Crime</th>\n",
       "      <th>Drama</th>\n",
       "      <th>Family</th>\n",
       "      <th>Fantasy</th>\n",
       "      <th>Horror</th>\n",
       "      <th>Mystery</th>\n",
       "      <th>Romance</th>\n",
       "      <th>Sci-Fi</th>\n",
       "      <th>Thriller</th>\n",
       "    </tr>\n",
       "  </thead>\n",
       "  <tbody>\n",
       "    <tr>\n",
       "      <th>0</th>\n",
       "      <td>0.041778</td>\n",
       "      <td>0.715329</td>\n",
       "      <td>0.216122</td>\n",
       "      <td>-0.030013</td>\n",
       "      <td>-0.008861</td>\n",
       "      <td>0.941070</td>\n",
       "      <td>0.474278</td>\n",
       "      <td>0.549161</td>\n",
       "      <td>0.080826</td>\n",
       "      <td>0.065398</td>\n",
       "      <td>...</td>\n",
       "      <td>-0.373541</td>\n",
       "      <td>-0.174278</td>\n",
       "      <td>-0.510956</td>\n",
       "      <td>-0.108949</td>\n",
       "      <td>0.879173</td>\n",
       "      <td>-0.112431</td>\n",
       "      <td>-0.095843</td>\n",
       "      <td>-0.221176</td>\n",
       "      <td>0.878353</td>\n",
       "      <td>-0.280156</td>\n",
       "    </tr>\n",
       "    <tr>\n",
       "      <th>1</th>\n",
       "      <td>0.041778</td>\n",
       "      <td>0.196856</td>\n",
       "      <td>0.188258</td>\n",
       "      <td>-0.005535</td>\n",
       "      <td>0.052076</td>\n",
       "      <td>0.347910</td>\n",
       "      <td>0.228690</td>\n",
       "      <td>0.190197</td>\n",
       "      <td>0.106026</td>\n",
       "      <td>0.045398</td>\n",
       "      <td>...</td>\n",
       "      <td>-0.373541</td>\n",
       "      <td>-0.174278</td>\n",
       "      <td>-0.510956</td>\n",
       "      <td>-0.108949</td>\n",
       "      <td>0.879173</td>\n",
       "      <td>-0.112431</td>\n",
       "      <td>-0.095843</td>\n",
       "      <td>-0.221176</td>\n",
       "      <td>-0.121647</td>\n",
       "      <td>-0.280156</td>\n",
       "    </tr>\n",
       "    <tr>\n",
       "      <th>2</th>\n",
       "      <td>0.041778</td>\n",
       "      <td>0.566314</td>\n",
       "      <td>0.123242</td>\n",
       "      <td>-0.030013</td>\n",
       "      <td>0.006764</td>\n",
       "      <td>0.204150</td>\n",
       "      <td>0.113081</td>\n",
       "      <td>0.141966</td>\n",
       "      <td>0.084026</td>\n",
       "      <td>0.125398</td>\n",
       "      <td>...</td>\n",
       "      <td>-0.373541</td>\n",
       "      <td>-0.174278</td>\n",
       "      <td>-0.510956</td>\n",
       "      <td>-0.108949</td>\n",
       "      <td>-0.120827</td>\n",
       "      <td>-0.112431</td>\n",
       "      <td>-0.095843</td>\n",
       "      <td>-0.221176</td>\n",
       "      <td>-0.121647</td>\n",
       "      <td>0.719844</td>\n",
       "    </tr>\n",
       "    <tr>\n",
       "      <th>3</th>\n",
       "      <td>0.041778</td>\n",
       "      <td>0.826166</td>\n",
       "      <td>0.172778</td>\n",
       "      <td>0.926509</td>\n",
       "      <td>0.031764</td>\n",
       "      <td>0.530323</td>\n",
       "      <td>0.627041</td>\n",
       "      <td>0.479384</td>\n",
       "      <td>0.086026</td>\n",
       "      <td>0.095398</td>\n",
       "      <td>...</td>\n",
       "      <td>-0.373541</td>\n",
       "      <td>-0.174278</td>\n",
       "      <td>-0.510956</td>\n",
       "      <td>-0.108949</td>\n",
       "      <td>-0.120827</td>\n",
       "      <td>-0.112431</td>\n",
       "      <td>-0.095843</td>\n",
       "      <td>-0.221176</td>\n",
       "      <td>-0.121647</td>\n",
       "      <td>0.719844</td>\n",
       "    </tr>\n",
       "    <tr>\n",
       "      <th>5</th>\n",
       "      <td>0.041778</td>\n",
       "      <td>0.393900</td>\n",
       "      <td>0.073707</td>\n",
       "      <td>-0.009361</td>\n",
       "      <td>-0.009424</td>\n",
       "      <td>0.037136</td>\n",
       "      <td>0.075404</td>\n",
       "      <td>0.091363</td>\n",
       "      <td>0.091506</td>\n",
       "      <td>0.095398</td>\n",
       "      <td>...</td>\n",
       "      <td>-0.373541</td>\n",
       "      <td>-0.174278</td>\n",
       "      <td>-0.510956</td>\n",
       "      <td>-0.108949</td>\n",
       "      <td>-0.120827</td>\n",
       "      <td>-0.112431</td>\n",
       "      <td>-0.095843</td>\n",
       "      <td>-0.221176</td>\n",
       "      <td>0.878353</td>\n",
       "      <td>-0.280156</td>\n",
       "    </tr>\n",
       "  </tbody>\n",
       "</table>\n",
       "<p>5 rows × 28 columns</p>\n",
       "</div>"
      ],
      "text/plain": [
       "      color  num_critic_for_reviews  duration  director_facebook_likes  \\\n",
       "0  0.041778                0.715329  0.216122                -0.030013   \n",
       "1  0.041778                0.196856  0.188258                -0.005535   \n",
       "2  0.041778                0.566314  0.123242                -0.030013   \n",
       "3  0.041778                0.826166  0.172778                 0.926509   \n",
       "5  0.041778                0.393900  0.073707                -0.009361   \n",
       "\n",
       "   actor_1_facebook_likes     gross  num_voted_users  num_user_for_reviews  \\\n",
       "0               -0.008861  0.941070         0.474278              0.549161   \n",
       "1                0.052076  0.347910         0.228690              0.190197   \n",
       "2                0.006764  0.204150         0.113081              0.141966   \n",
       "3                0.031764  0.530323         0.627041              0.479384   \n",
       "5               -0.009424  0.037136         0.075404              0.091363   \n",
       "\n",
       "     budget  title_year    ...       Comedy     Crime     Drama    Family  \\\n",
       "0  0.080826    0.065398    ...    -0.373541 -0.174278 -0.510956 -0.108949   \n",
       "1  0.106026    0.045398    ...    -0.373541 -0.174278 -0.510956 -0.108949   \n",
       "2  0.084026    0.125398    ...    -0.373541 -0.174278 -0.510956 -0.108949   \n",
       "3  0.086026    0.095398    ...    -0.373541 -0.174278 -0.510956 -0.108949   \n",
       "5  0.091506    0.095398    ...    -0.373541 -0.174278 -0.510956 -0.108949   \n",
       "\n",
       "    Fantasy    Horror   Mystery   Romance    Sci-Fi  Thriller  \n",
       "0  0.879173 -0.112431 -0.095843 -0.221176  0.878353 -0.280156  \n",
       "1  0.879173 -0.112431 -0.095843 -0.221176 -0.121647 -0.280156  \n",
       "2 -0.120827 -0.112431 -0.095843 -0.221176 -0.121647  0.719844  \n",
       "3 -0.120827 -0.112431 -0.095843 -0.221176 -0.121647  0.719844  \n",
       "5 -0.120827 -0.112431 -0.095843 -0.221176  0.878353 -0.280156  \n",
       "\n",
       "[5 rows x 28 columns]"
      ]
     },
     "execution_count": 498,
     "metadata": {},
     "output_type": "execute_result"
    }
   ],
   "source": [
    "# normalize data\n",
    "X_new = (X - X.mean()) / (X.max() - X.min())\n",
    "X_new.head()"
   ]
  },
  {
   "cell_type": "code",
   "execution_count": 499,
   "metadata": {},
   "outputs": [
    {
     "data": {
      "text/plain": [
       "color                      0.040040\n",
       "num_critic_for_reviews     0.022226\n",
       "duration                   0.004877\n",
       "director_facebook_likes    0.015085\n",
       "actor_1_facebook_likes     0.000564\n",
       "gross                      0.006859\n",
       "num_voted_users            0.006794\n",
       "num_user_for_reviews       0.005645\n",
       "budget                     0.000906\n",
       "title_year                 0.015580\n",
       "movie_facebook_likes       0.008937\n",
       "content_rating_1           0.079816\n",
       "content_rating_2           0.023196\n",
       "content_rating_3           0.123850\n",
       "content_rating_4           0.213653\n",
       "content_rating_5           0.245796\n",
       "Action                     0.177237\n",
       "Adventure                  0.150889\n",
       "Comedy                     0.234056\n",
       "Crime                      0.143935\n",
       "Drama                      0.249931\n",
       "Family                     0.097099\n",
       "Fantasy                    0.106250\n",
       "Horror                     0.099811\n",
       "Mystery                    0.086675\n",
       "Romance                    0.172292\n",
       "Sci-Fi                     0.106871\n",
       "Thriller                   0.201710\n",
       "dtype: float64"
      ]
     },
     "execution_count": 499,
     "metadata": {},
     "output_type": "execute_result"
    }
   ],
   "source": [
    "#Check variance after normalization\n",
    "X_new.var()"
   ]
  },
  {
   "cell_type": "code",
   "execution_count": 500,
   "metadata": {},
   "outputs": [
    {
     "name": "stdout",
     "output_type": "stream",
     "text": [
      "0.1518566051322317\n",
      "0.18541933814326444\n",
      "0.16098969605787736\n",
      "0.1711948064801309\n",
      "0.17084646545787846\n",
      "0.1791283925476745\n",
      "0.1857951704775322\n",
      "0.18559198384394066\n",
      "0.19800508988103316\n",
      "0.19453516485979486\n",
      "0.205411709274622\n",
      "0.2146281039891564\n"
     ]
    }
   ],
   "source": [
    "#Now we can check for the optimal value of k\n",
    "tests = [2, 3, 4, 5, 6, 7, 8, 9, 10, 12, 15, 20]\n",
    "\n",
    "for k in tests:\n",
    "    kmeans_model = KMeans(n_clusters=k, random_state=0).fit(X_new)\n",
    "    labels = kmeans_model.labels_\n",
    "    print metrics.silhouette_score(X_new, labels, metric='euclidean')"
   ]
  },
  {
   "cell_type": "markdown",
   "metadata": {},
   "source": [
    "Here we will choose to use 2 clusters for further analysis."
   ]
  },
  {
   "cell_type": "code",
   "execution_count": 511,
   "metadata": {},
   "outputs": [
    {
     "data": {
      "text/plain": [
       "KMeans(algorithm='auto', copy_x=True, init='k-means++', max_iter=300,\n",
       "    n_clusters=2, n_init=10, n_jobs=1, precompute_distances='auto',\n",
       "    random_state=1, tol=0.0001, verbose=0)"
      ]
     },
     "execution_count": 511,
     "metadata": {},
     "output_type": "execute_result"
    }
   ],
   "source": [
    "#Initialize Kmeans model\n",
    "k_means = KMeans(init='k-means++', n_clusters=2, random_state=1)\n",
    "k_means.fit(X_new)"
   ]
  },
  {
   "cell_type": "code",
   "execution_count": 512,
   "metadata": {},
   "outputs": [],
   "source": [
    "#Create a cluster column for cluster profiling\n",
    "df1 = pd.DataFrame(k_means.labels_, columns = ['cluster'])\n",
    "df = df.reset_index(drop=True)\n",
    "df1 = df1.reset_index(drop=True)\n",
    "df2 = df.join(df1)"
   ]
  },
  {
   "cell_type": "code",
   "execution_count": 513,
   "metadata": {},
   "outputs": [
    {
     "data": {
      "text/plain": [
       "0    2742\n",
       "1    2141\n",
       "Name: cluster, dtype: int64"
      ]
     },
     "execution_count": 513,
     "metadata": {},
     "output_type": "execute_result"
    }
   ],
   "source": [
    "# Check the number of observations in each cluster\n",
    "df2['cluster'].value_counts()"
   ]
  },
  {
   "cell_type": "code",
   "execution_count": 504,
   "metadata": {},
   "outputs": [
    {
     "data": {
      "text/html": [
       "<div>\n",
       "<style scoped>\n",
       "    .dataframe tbody tr th:only-of-type {\n",
       "        vertical-align: middle;\n",
       "    }\n",
       "\n",
       "    .dataframe tbody tr th {\n",
       "        vertical-align: top;\n",
       "    }\n",
       "\n",
       "    .dataframe thead th {\n",
       "        text-align: right;\n",
       "    }\n",
       "</style>\n",
       "<table border=\"1\" class=\"dataframe\">\n",
       "  <thead>\n",
       "    <tr style=\"text-align: right;\">\n",
       "      <th></th>\n",
       "      <th>num_critic_for_reviews</th>\n",
       "      <th>duration</th>\n",
       "      <th>director_facebook_likes</th>\n",
       "      <th>actor_1_facebook_likes</th>\n",
       "      <th>imdb_score</th>\n",
       "      <th>gross</th>\n",
       "      <th>num_voted_users</th>\n",
       "      <th>num_user_for_reviews</th>\n",
       "    </tr>\n",
       "    <tr>\n",
       "      <th>cluster</th>\n",
       "      <th></th>\n",
       "      <th></th>\n",
       "      <th></th>\n",
       "      <th></th>\n",
       "      <th></th>\n",
       "      <th></th>\n",
       "      <th></th>\n",
       "      <th></th>\n",
       "    </tr>\n",
       "  </thead>\n",
       "  <tbody>\n",
       "    <tr>\n",
       "      <th>0</th>\n",
       "      <td>150.184493</td>\n",
       "      <td>108.596917</td>\n",
       "      <td>743.047174</td>\n",
       "      <td>6760.951892</td>\n",
       "      <td>6.520598</td>\n",
       "      <td>2.920737e+07</td>\n",
       "      <td>87421.984587</td>\n",
       "      <td>286.983185</td>\n",
       "    </tr>\n",
       "    <tr>\n",
       "      <th>1</th>\n",
       "      <td>135.882203</td>\n",
       "      <td>107.877097</td>\n",
       "      <td>649.103209</td>\n",
       "      <td>6601.401532</td>\n",
       "      <td>6.334282</td>\n",
       "      <td>5.700479e+07</td>\n",
       "      <td>82733.085704</td>\n",
       "      <td>267.058352</td>\n",
       "    </tr>\n",
       "  </tbody>\n",
       "</table>\n",
       "</div>"
      ],
      "text/plain": [
       "         num_critic_for_reviews    duration  director_facebook_likes  \\\n",
       "cluster                                                                \n",
       "0                    150.184493  108.596917               743.047174   \n",
       "1                    135.882203  107.877097               649.103209   \n",
       "\n",
       "         actor_1_facebook_likes  imdb_score         gross  num_voted_users  \\\n",
       "cluster                                                                      \n",
       "0                   6760.951892    6.520598  2.920737e+07     87421.984587   \n",
       "1                   6601.401532    6.334282  5.700479e+07     82733.085704   \n",
       "\n",
       "         num_user_for_reviews  \n",
       "cluster                        \n",
       "0                  286.983185  \n",
       "1                  267.058352  "
      ]
     },
     "execution_count": 504,
     "metadata": {},
     "output_type": "execute_result"
    }
   ],
   "source": [
    "# Check mean values for each cluster\n",
    "df2[['num_critic_for_reviews', 'duration', 'director_facebook_likes', 'actor_1_facebook_likes', 'imdb_score', \n",
    "     'cluster','gross', 'num_voted_users', 'num_user_for_reviews' ]].groupby(['cluster']).mean()"
   ]
  },
  {
   "cell_type": "markdown",
   "metadata": {},
   "source": [
    "Here we can see that cluster 0 movies have slightly more critic reviews, director facebook likes, actor 1 facebook likes, user votes and reviews along with higher IMDB scores."
   ]
  },
  {
   "cell_type": "code",
   "execution_count": 505,
   "metadata": {},
   "outputs": [
    {
     "data": {
      "text/html": [
       "<div>\n",
       "<style scoped>\n",
       "    .dataframe tbody tr th:only-of-type {\n",
       "        vertical-align: middle;\n",
       "    }\n",
       "\n",
       "    .dataframe tbody tr th {\n",
       "        vertical-align: top;\n",
       "    }\n",
       "\n",
       "    .dataframe thead th {\n",
       "        text-align: right;\n",
       "    }\n",
       "</style>\n",
       "<table border=\"1\" class=\"dataframe\">\n",
       "  <thead>\n",
       "    <tr style=\"text-align: right;\">\n",
       "      <th></th>\n",
       "      <th>Action</th>\n",
       "      <th>Adventure</th>\n",
       "      <th>Comedy</th>\n",
       "      <th>Crime</th>\n",
       "      <th>Drama</th>\n",
       "      <th>Family</th>\n",
       "      <th>Fantasy</th>\n",
       "      <th>Horror</th>\n",
       "      <th>Mystery</th>\n",
       "      <th>Romance</th>\n",
       "      <th>Sci-Fi</th>\n",
       "      <th>Thriller</th>\n",
       "    </tr>\n",
       "    <tr>\n",
       "      <th>cluster</th>\n",
       "      <th></th>\n",
       "      <th></th>\n",
       "      <th></th>\n",
       "      <th></th>\n",
       "      <th></th>\n",
       "      <th></th>\n",
       "      <th></th>\n",
       "      <th></th>\n",
       "      <th></th>\n",
       "      <th></th>\n",
       "      <th></th>\n",
       "      <th></th>\n",
       "    </tr>\n",
       "  </thead>\n",
       "  <tbody>\n",
       "    <tr>\n",
       "      <th>0</th>\n",
       "      <td>0.214853</td>\n",
       "      <td>0.068192</td>\n",
       "      <td>0.322279</td>\n",
       "      <td>0.272770</td>\n",
       "      <td>0.587109</td>\n",
       "      <td>0.001401</td>\n",
       "      <td>0.057917</td>\n",
       "      <td>0.168146</td>\n",
       "      <td>0.131247</td>\n",
       "      <td>0.178888</td>\n",
       "      <td>0.088744</td>\n",
       "      <td>0.385801</td>\n",
       "    </tr>\n",
       "    <tr>\n",
       "      <th>1</th>\n",
       "      <td>0.242159</td>\n",
       "      <td>0.276441</td>\n",
       "      <td>0.413567</td>\n",
       "      <td>0.097374</td>\n",
       "      <td>0.451495</td>\n",
       "      <td>0.192925</td>\n",
       "      <td>0.169949</td>\n",
       "      <td>0.068928</td>\n",
       "      <td>0.068198</td>\n",
       "      <td>0.254194</td>\n",
       "      <td>0.147338</td>\n",
       "      <td>0.197666</td>\n",
       "    </tr>\n",
       "  </tbody>\n",
       "</table>\n",
       "</div>"
      ],
      "text/plain": [
       "           Action  Adventure    Comedy     Crime     Drama    Family  \\\n",
       "cluster                                                                \n",
       "0        0.214853   0.068192  0.322279  0.272770  0.587109  0.001401   \n",
       "1        0.242159   0.276441  0.413567  0.097374  0.451495  0.192925   \n",
       "\n",
       "          Fantasy    Horror   Mystery   Romance    Sci-Fi  Thriller  \n",
       "cluster                                                              \n",
       "0        0.057917  0.168146  0.131247  0.178888  0.088744  0.385801  \n",
       "1        0.169949  0.068928  0.068198  0.254194  0.147338  0.197666  "
      ]
     },
     "execution_count": 505,
     "metadata": {},
     "output_type": "execute_result"
    }
   ],
   "source": [
    "#Check genres for each cluster\n",
    "df2[['Action', 'Adventure', 'Comedy', 'Crime', 'Drama', 'cluster','Family', 'Fantasy', 'Horror', \n",
    "     'Mystery', 'Romance', 'Sci-Fi', 'Thriller' ]].groupby(['cluster']).mean()"
   ]
  },
  {
   "cell_type": "markdown",
   "metadata": {},
   "source": [
    "Cluster 1 has most adventure, comedy, family, fantasy, romance and sci-fi movies while cluster 0 has the most crime, drama, horror and thriller"
   ]
  },
  {
   "cell_type": "code",
   "execution_count": 506,
   "metadata": {},
   "outputs": [
    {
     "data": {
      "text/plain": [
       "<seaborn.axisgrid.FacetGrid at 0x1d43c0b8>"
      ]
     },
     "execution_count": 506,
     "metadata": {},
     "output_type": "execute_result"
    },
    {
     "data": {
      "image/png": "[encoded data removed]",
      "text/plain": [
       "<Figure size 360x360 with 1 Axes>"
      ]
     },
     "metadata": {},
     "output_type": "display_data"
    }
   ],
   "source": [
    "#Check scatterplot with cluster and number of critic reviews\n",
    "sns.lmplot(\"cluster\", \"num_critic_for_reviews\", df2, x_jitter=.15, y_jitter=.15)"
   ]
  },
  {
   "cell_type": "markdown",
   "metadata": {},
   "source": [
    "In this scatterplot we can that cluster 0 has move critic reviews, on average."
   ]
  },
  {
   "cell_type": "code",
   "execution_count": 507,
   "metadata": {},
   "outputs": [
    {
     "data": {
      "text/plain": [
       "<seaborn.axisgrid.FacetGrid at 0x27878d68>"
      ]
     },
     "execution_count": 507,
     "metadata": {},
     "output_type": "execute_result"
    },
    {
     "data": {
      "image/png": "[encoded data removed]",
      "text/plain": [
       "<Figure size 360x360 with 1 Axes>"
      ]
     },
     "metadata": {},
     "output_type": "display_data"
    }
   ],
   "source": [
    "#Check scatterplot for cluster and duration\n",
    "sns.lmplot(\"cluster\", \"duration\", df2, x_jitter=.15, y_jitter=.15)"
   ]
  },
  {
   "cell_type": "markdown",
   "metadata": {},
   "source": [
    "Duration is not an important factor between clusters."
   ]
  },
  {
   "cell_type": "code",
   "execution_count": 508,
   "metadata": {},
   "outputs": [
    {
     "data": {
      "text/plain": [
       "Text(0.5,0,'Actor Facebook likes')"
      ]
     },
     "execution_count": 508,
     "metadata": {},
     "output_type": "execute_result"
    },
    {
     "data": {
      "image/png": "[encoded data removed]",
      "text/plain": [
       "<Figure size 432x288 with 1 Axes>"
      ]
     },
     "metadata": {},
     "output_type": "display_data"
    }
   ],
   "source": [
    "#Try a 3d plot with director and actor facebook likes with cluster\n",
    "from mpl_toolkits.mplot3d import Axes3D\n",
    "\n",
    "fig = plt.figure()\n",
    "ax = fig.add_subplot(111, projection='3d')\n",
    "\n",
    "x = df2['director_facebook_likes']\n",
    "y = df2['cluster']\n",
    "z = df2['actor_1_facebook_likes'] \n",
    "colors = df2['cluster']\n",
    "\n",
    "ax.scatter(x, y, z, c=colors, marker='o')\n",
    "ax.set_xlabel('Director Facebook Likes')\n",
    "ax.set_ylabel('Cluster')\n",
    "ax.set_zlabel('Actor Facebook likes')"
   ]
  },
  {
   "cell_type": "code",
   "execution_count": 509,
   "metadata": {},
   "outputs": [
    {
     "data": {
      "text/plain": [
       "<seaborn.axisgrid.FacetGrid at 0x280c0550>"
      ]
     },
     "execution_count": 509,
     "metadata": {},
     "output_type": "execute_result"
    },
    {
     "data": {
      "image/png": "[encoded data removed]",
      "text/plain": [
       "<Figure size 360x360 with 1 Axes>"
      ]
     },
     "metadata": {},
     "output_type": "display_data"
    }
   ],
   "source": [
    "#Check scatterplot with cluster and IMDB score\n",
    "sns.lmplot(\"cluster\", \"imdb_score\", df2, x_jitter=.15, y_jitter=.15)"
   ]
  },
  {
   "cell_type": "markdown",
   "metadata": {},
   "source": [
    "Cluster 0 has slightly higher IMDB scores than cluster 1"
   ]
  },
  {
   "cell_type": "markdown",
   "metadata": {},
   "source": [
    "From analyzing this dataset we are able to gain some insight into some of the attributes of movies that score highly IMDB.\n",
    "*  Movie duration\n",
    "    *  The longer a the move, the higher average IMDB score\n",
    "    *  Most low scoring movies occur in the middle range of duration\n",
    "*  Number of critic reviews\n",
    "    *  As the number of critic reviews increase, so does the average IMDB score\n",
    "    *  As the number of critic reviews increase, the range of scores decreases, eliminating the lowest scores\n",
    "    *  A movie with numerous critic reviews is unlikely to get a low IMDB score\n",
    "*  Number of user votes\n",
    "    *  The more user votes a movie gets, the higher the average IMDB score\n",
    "    *  The movies with numerous user votes are unlikely to get low or average IMDB scores\n",
    "*  Number of user reviews\n",
    "    *  The more user reviews a movie gets, the higher the average IMDB score\n",
    "    *  It is rare for a low scoring movie to receive numerous user reviews\n",
    "*  Movie facebook likes\n",
    "    *  The more facebook movie likes, the higher the average IMDB score.\n",
    "    *  Low rated movies are more likely to get facebook likes than user votes.   \n",
    "    \n",
    "Number of critic reviews, number of user reviews, number of facebook likes and number of user votes are very highly correlated to one another.  \n",
    "*  Directors\n",
    "    *  The 5 most frequent directors have statistically higher IMDB scores than the average movie\n",
    "    *  The 5 most frequent directors have statistically similar IMDB scores.\n",
    "*  Actors\n",
    "    *  Not all 5 of the most frequent actors produced statically significant IMDB scores compared to the mean.\n",
    "    *  The 5 most frequent actors had statistically similar IMDB scores.    \n",
    "    \n",
    "This analysis would imply that the director is more important than leading actor for high IMDB scores.\n",
    "*  Gross\n",
    "    *  The more money a movie gross, the higher the average IMDB score\n",
    "    *  A low scoring movie is unlikely to have a high gross\n",
    "*  Content rating\n",
    "    *  All ratings had very similar average IMDB scores\n",
    "    *  R and non-rated were statistically higher than PG and PG-13   \n",
    "    \n",
    "Modeling is the best way to identify the best variables for predicting the next round of successful movies\n",
    "* Regression Analysis\n",
    "    *  The regression model with variables number of critic reviews, duration, title year, number of user reviews and number of user votes accounted for 29.8% of the variation in IMDB scores.\n",
    "    *  Metrics indiate that regression model would be a poor choice for future predictions.\n",
    "* Feature Selection\n",
    "    *  Random forest classifier, select K best, and extra trees classifier were used to select number of user votes, number of user reviews, number of critic reviews, budget, and duration as the 5 best varaibles for classification models.\n",
    "* Decision Tree Clasifier\n",
    "    *  Duration, number of user votes, gross, budget and title year are all used in the decision tree.\n",
    "    *  The decision tree had a 70.7% accuracy score predicting movies as bad, ok, good, or excellent.\n",
    "* Knn nearest neighbor\n",
    "    *  Knn nearest neighbor had a 69.8% accuracy score predicting movies as bad, ok, good, or excellent.\n",
    "* Random forest Classifier\n",
    "    *  The decision Tree Classifier had the highest accuracy score of 73.2% predicting movies as bad, ok, good, or excellent.\n",
    "    *  Our confidence that this is the best classifier model is increased by a cross validation score of 65.9%.\n",
    "* K-means Cluster analysis\n",
    "    *  The optimal number of clusters was found to be 2\n",
    "    *  Cluster 0 contained higher average IMDB score movies as well as more critic reviews, more director facebook likes, more actor 1 facebook likes, more user votes and reviews.\n",
    "    *  Cluster 0 contained a higher proportion of crime, drama, horror and thriller movies.\n",
    "    *  Cluster 1 contained a higher proportion of adventure, comedy, family, fantasy, romance and sci-fi movies.\n",
    "* Feature selection with random Forest Classifier\n",
    "    *  The most important variables for cluster analysis are number of user votes, duration, number of critic and user reviews and title year.\n",
    "    \n",
    "Overall the best prediction model was the Decision Tree Classifier.  The most important variables appearing in multiply models are number of user votes, number of critic reviews and number of user reviews.  In order to consistently produce movies that achieve good and excellent IMDB scores, these metrics need to be maximized.\n",
    "\n",
    "\n",
    "    "
   ]
  },
  {
   "cell_type": "code",
   "execution_count": null,
   "metadata": {},
   "outputs": [],
   "source": []
  },
  {
   "cell_type": "code",
   "execution_count": null,
   "metadata": {},
   "outputs": [],
   "source": []
  }
 ],
 "metadata": {
  "kernelspec": {
   "display_name": "Python 2",
   "language": "python",
   "name": "python2"
  },
  "language_info": {
   "codemirror_mode": {
    "name": "ipython",
    "version": 2
   },
   "file_extension": ".py",
   "mimetype": "text/x-python",
   "name": "python",
   "nbconvert_exporter": "python",
   "pygments_lexer": "ipython2",
   "version": "2.7.15"
  }
 },
 "nbformat": 4,
 "nbformat_minor": 2
}
